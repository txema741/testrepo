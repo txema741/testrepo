{
  "metadata": {
    "kernelspec": {
      "name": "python",
      "display_name": "Python (Pyodide)",
      "language": "python"
    },
    "language_info": {
      "codemirror_mode": {
        "name": "python",
        "version": 3
      },
      "file_extension": ".py",
      "mimetype": "text/x-python",
      "name": "python",
      "nbconvert_exporter": "python",
      "pygments_lexer": "ipython3",
      "version": "3.8"
    },
    "prev_pub_hash": "0f9db842b41c859223722809f8be602f5df9334348bd206b11e3af58c30eb345"
  },
  "nbformat_minor": 4,
  "nbformat": 4,
  "cells": [
    {
      "cell_type": "markdown",
      "source": "<p style=\"text-align:center\">\n    <a href=\"https://skills.network/?utm_medium=Exinfluencer&utm_source=Exinfluencer&utm_content=000026UJ&utm_term=10006555&utm_id=NA-SkillsNetwork-Channel-SkillsNetworkCoursesIBMDS0321ENSkillsNetwork26802033-2022-01-01\" target=\"_blank\">\n    <img src=\"https://cf-courses-data.s3.us.cloud-object-storage.appdomain.cloud/assets/logos/SN_web_lightmode.png\" width=\"200\" alt=\"Skills Network Logo\">\n    </a>\n</p>\n",
      "metadata": {}
    },
    {
      "cell_type": "markdown",
      "source": "# **Hands-on Lab: Interactive Visual Analytics with Folium**\n",
      "metadata": {}
    },
    {
      "cell_type": "markdown",
      "source": "Estimated time needed: **40** minutes\n",
      "metadata": {}
    },
    {
      "cell_type": "markdown",
      "source": "The launch success rate may depend on many factors such as payload mass, orbit type, and so on. It may also depend on the location and proximities of a launch site, i.e., the initial position of rocket trajectories. Finding an optimal location for building a launch site certainly involves many factors and hopefully we could discover some of the factors by analyzing the existing launch site locations.\n",
      "metadata": {}
    },
    {
      "cell_type": "markdown",
      "source": "In the previous exploratory data analysis labs, you have visualized the SpaceX launch dataset using `matplotlib` and `seaborn` and discovered some preliminary correlations between the launch site and success rates. In this lab, you will be performing more interactive visual analytics using `Folium`.\n",
      "metadata": {}
    },
    {
      "cell_type": "markdown",
      "source": "## Objectives\n",
      "metadata": {}
    },
    {
      "cell_type": "markdown",
      "source": "This lab contains the following tasks:\n\n*   **TASK 1:** Mark all launch sites on a map\n*   **TASK 2:** Mark the success/failed launches for each site on the map\n*   **TASK 3:** Calculate the distances between a launch site to its proximities\n\nAfter completed the above tasks, you should be able to find some geographical patterns about launch sites.\n",
      "metadata": {}
    },
    {
      "cell_type": "markdown",
      "source": "Let's first import required Python packages for this lab:\n",
      "metadata": {}
    },
    {
      "cell_type": "code",
      "source": "import piplite\nawait piplite.install(['folium'])\nawait piplite.install(['pandas'])",
      "metadata": {
        "trusted": true
      },
      "outputs": [],
      "execution_count": 1
    },
    {
      "cell_type": "code",
      "source": "import folium\nimport pandas as pd",
      "metadata": {
        "trusted": true
      },
      "outputs": [],
      "execution_count": 2
    },
    {
      "cell_type": "code",
      "source": "# Import folium MarkerCluster plugin\nfrom folium.plugins import MarkerCluster\n# Import folium MousePosition plugin\nfrom folium.plugins import MousePosition\n# Import folium DivIcon plugin\nfrom folium.features import DivIcon",
      "metadata": {
        "trusted": true
      },
      "outputs": [],
      "execution_count": 3
    },
    {
      "cell_type": "markdown",
      "source": "If you need to refresh your memory about folium, you may download and refer to this previous folium lab:\n",
      "metadata": {}
    },
    {
      "cell_type": "markdown",
      "source": "[Generating Maps with Python](https://cf-courses-data.s3.us.cloud-object-storage.appdomain.cloud/IBMDeveloperSkillsNetwork-DV0101EN-SkillsNetwork/labs/v4/DV0101EN-Exercise-Generating-Maps-in-Python.ipynb)\n",
      "metadata": {}
    },
    {
      "cell_type": "code",
      "source": "## Task 1: Mark all launch sites# Importación de bibliotecas necesarias\nimport folium\nfrom folium.plugins import MarkerCluster, MousePosition\nfrom folium.features import DivIcon\n\n# Datos de los sitios de lanzamiento\nlaunch_sites = [\n    {\"name\": \"Cape Canaveral LC-40\", \"lat\": 28.5623, \"lon\": -80.5774},\n    {\"name\": \"Vandenberg SLC-4E\", \"lat\": 34.6321, \"lon\": -120.6106},\n    {\"name\": \"Cape Canaveral LC-39A\", \"lat\": 28.5734, \"lon\": -80.6469},\n    {\"name\": \"Kourou ELA-3\", \"lat\": 5.236, \"lon\": -52.768},\n]\n\n# Crear un mapa centrado en una ubicación específica\nmapa = folium.Map(location=[20, -50], zoom_start=3)\n\n# Agregar el plugin MarkerCluster\nmarker_cluster = MarkerCluster().add_to(mapa)\n\n# Agregar marcadores de sitios de lanzamiento al cluster\nfor site in launch_sites:\n    folium.Marker(\n        location=[site[\"lat\"], site[\"lon\"]],\n        popup=folium.Popup(f\"Launch Site: {site['name']}\", max_width=200),\n        icon=folium.Icon(color=\"blue\", icon=\"rocket\", prefix=\"fa\")\n    ).add_to(marker_cluster)\n\n# Agregar MousePosition para mostrar latitud/longitud\nMousePosition(\n    position=\"topright\",\n    separator=\" | \",\n    prefix=\"Coordenadas:\",\n    num_digits=5,\n    empty_string=\"Sin posición\"\n).add_to(mapa)\n\n# Agregar etiquetas usando DivIcon\nfor site in launch_sites:\n    folium.Marker(\n        location=[site[\"lat\"], site[\"lon\"]],\n        icon=DivIcon(\n            icon_size=(150, 30),  # Tamaño de la etiqueta\n            icon_anchor=(0, 0),  # Posición de anclaje\n            html=f'<div style=\"font-size: 12px; color: black; font-weight: bold;\">{site[\"name\"]}</div>'\n        )\n    ).add_to(mapa)\n\n# Guardar el mapa en un archivo HTML (opcional)\nmapa.save(\"launch_sites_map.html\")\n\n# Mostrar el mapa en el entorno interactivo\nmapa\n on a map\n",
      "metadata": {
        "trusted": true
      },
      "outputs": [
        {
          "ename": "<class 'IndentationError'>",
          "evalue": "unexpected indent (<ipython-input-6-06dd7d186e1c>, line 53)",
          "traceback": [
            "\u001b[0;36m  Cell \u001b[0;32mIn[6], line 53\u001b[0;36m\u001b[0m\n\u001b[0;31m    on a map\u001b[0m\n\u001b[0m    ^\u001b[0m\n\u001b[0;31mIndentationError\u001b[0m\u001b[0;31m:\u001b[0m unexpected indent\n"
          ],
          "output_type": "error"
        }
      ],
      "execution_count": 6
    },
    {
      "cell_type": "markdown",
      "source": "First, let's try to add each site's location on a map using site's latitude and longitude coordinates\n",
      "metadata": {}
    },
    {
      "cell_type": "markdown",
      "source": "The following dataset with the name `spacex_launch_geo.csv` is an augmented dataset with latitude and longitude added for each site.\n",
      "metadata": {}
    },
    {
      "cell_type": "code",
      "source": "# Download and read the `spacex_launch_geo.csv`\nfrom js import fetch\nimport io\n\nURL = 'https://cf-courses-data.s3.us.cloud-object-storage.appdomain.cloud/IBM-DS0321EN-SkillsNetwork/datasets/spacex_launch_geo.csv'\nresp = await fetch(URL)\nspacex_csv_file = io.BytesIO((await resp.arrayBuffer()).to_py())\nspacex_df=pd.read_csv(spacex_csv_file)",
      "metadata": {
        "trusted": true
      },
      "outputs": [],
      "execution_count": 4
    },
    {
      "cell_type": "markdown",
      "source": "Now, you can take a look at what are the coordinates for each site.\n",
      "metadata": {}
    },
    {
      "cell_type": "code",
      "source": "# Select relevant sub-columns: `Launch Site`, `Lat(Latitude)`, `Long(Longitude)`, `class`\nspacex_df = spacex_df[['Launch Site', 'Lat', 'Long', 'class']]\nlaunch_sites_df = spacex_df.groupby(['Launch Site'], as_index=False).first()\nlaunch_sites_df = launch_sites_df[['Launch Site', 'Lat', 'Long']]\nlaunch_sites_df",
      "metadata": {
        "trusted": true
      },
      "outputs": [
        {
          "execution_count": 5,
          "output_type": "execute_result",
          "data": {
            "text/plain": "    Launch Site        Lat        Long\n0   CCAFS LC-40  28.562302  -80.577356\n1  CCAFS SLC-40  28.563197  -80.576820\n2    KSC LC-39A  28.573255  -80.646895\n3   VAFB SLC-4E  34.632834 -120.610745",
            "text/html": "<div>\n<style scoped>\n    .dataframe tbody tr th:only-of-type {\n        vertical-align: middle;\n    }\n\n    .dataframe tbody tr th {\n        vertical-align: top;\n    }\n\n    .dataframe thead th {\n        text-align: right;\n    }\n</style>\n<table border=\"1\" class=\"dataframe\">\n  <thead>\n    <tr style=\"text-align: right;\">\n      <th></th>\n      <th>Launch Site</th>\n      <th>Lat</th>\n      <th>Long</th>\n    </tr>\n  </thead>\n  <tbody>\n    <tr>\n      <th>0</th>\n      <td>CCAFS LC-40</td>\n      <td>28.562302</td>\n      <td>-80.577356</td>\n    </tr>\n    <tr>\n      <th>1</th>\n      <td>CCAFS SLC-40</td>\n      <td>28.563197</td>\n      <td>-80.576820</td>\n    </tr>\n    <tr>\n      <th>2</th>\n      <td>KSC LC-39A</td>\n      <td>28.573255</td>\n      <td>-80.646895</td>\n    </tr>\n    <tr>\n      <th>3</th>\n      <td>VAFB SLC-4E</td>\n      <td>34.632834</td>\n      <td>-120.610745</td>\n    </tr>\n  </tbody>\n</table>\n</div>"
          },
          "metadata": {}
        }
      ],
      "execution_count": 5
    },
    {
      "cell_type": "markdown",
      "source": "Above coordinates are just plain numbers that can not give you any intuitive insights about where are those launch sites. If you are very good at geography, you can interpret those numbers directly in your mind. If not, that's fine too. Let's visualize those locations by pinning them on a map.\n",
      "metadata": {}
    },
    {
      "cell_type": "markdown",
      "source": "We first need to create a folium `Map` object, with an initial center location to be NASA Johnson Space Center at Houston, Texas.\n",
      "metadata": {}
    },
    {
      "cell_type": "code",
      "source": "# Start location is NASA Johnson Space Center\nnasa_coordinate = [29.559684888503615, -95.0830971930759]\nsite_map = folium.Map(location=nasa_coordinate, zoom_start=10)",
      "metadata": {
        "trusted": true
      },
      "outputs": [],
      "execution_count": 7
    },
    {
      "cell_type": "markdown",
      "source": "We could use `folium.Circle` to add a highlighted circle area with a text label on a specific coordinate. For example,\n",
      "metadata": {}
    },
    {
      "cell_type": "code",
      "source": "# Create a blue circle at NASA Johnson Space Center's coordinate with a popup label showing its name\ncircle = folium.Circle(nasa_coordinate, radius=1000, color='#d35400', fill=True).add_child(folium.Popup('NASA Johnson Space Center'))\n# Create a blue circle at NASA Johnson Space Center's coordinate with a icon showing its name\nmarker = folium.map.Marker(\n    nasa_coordinate,\n    # Create an icon as a text label\n    icon=DivIcon(\n        icon_size=(20,20),\n        icon_anchor=(0,0),\n        html='<div style=\"font-size: 12; color:#d35400;\"><b>%s</b></div>' % 'NASA JSC',\n        )\n    )\nsite_map.add_child(circle)\nsite_map.add_child(marker)",
      "metadata": {
        "trusted": true
      },
      "outputs": [
        {
          "execution_count": 8,
          "output_type": "execute_result",
          "data": {
            "text/plain": "<folium.folium.Map at 0x1347748>",
            "text/html": "<div style=\"width:100%;\"><div style=\"position:relative;width:100%;height:0;padding-bottom:60%;\"><span style=\"color:#565656\">Make this Notebook Trusted to load map: File -> Trust Notebook</span><iframe srcdoc=\"&lt;!DOCTYPE html&gt;\n&lt;html&gt;\n&lt;head&gt;\n    \n    &lt;meta http-equiv=&quot;content-type&quot; content=&quot;text/html; charset=UTF-8&quot; /&gt;\n    \n        &lt;script&gt;\n            L_NO_TOUCH = false;\n            L_DISABLE_3D = false;\n        &lt;/script&gt;\n    \n    &lt;style&gt;html, body {width: 100%;height: 100%;margin: 0;padding: 0;}&lt;/style&gt;\n    &lt;style&gt;#map {position:absolute;top:0;bottom:0;right:0;left:0;}&lt;/style&gt;\n    &lt;script src=&quot;https://cdn.jsdelivr.net/npm/leaflet@1.9.3/dist/leaflet.js&quot;&gt;&lt;/script&gt;\n    &lt;script src=&quot;https://code.jquery.com/jquery-3.7.1.min.js&quot;&gt;&lt;/script&gt;\n    &lt;script src=&quot;https://cdn.jsdelivr.net/npm/bootstrap@5.2.2/dist/js/bootstrap.bundle.min.js&quot;&gt;&lt;/script&gt;\n    &lt;script src=&quot;https://cdnjs.cloudflare.com/ajax/libs/Leaflet.awesome-markers/2.0.2/leaflet.awesome-markers.js&quot;&gt;&lt;/script&gt;\n    &lt;link rel=&quot;stylesheet&quot; href=&quot;https://cdn.jsdelivr.net/npm/leaflet@1.9.3/dist/leaflet.css&quot;/&gt;\n    &lt;link rel=&quot;stylesheet&quot; href=&quot;https://cdn.jsdelivr.net/npm/bootstrap@5.2.2/dist/css/bootstrap.min.css&quot;/&gt;\n    &lt;link rel=&quot;stylesheet&quot; href=&quot;https://netdna.bootstrapcdn.com/bootstrap/3.0.0/css/bootstrap-glyphicons.css&quot;/&gt;\n    &lt;link rel=&quot;stylesheet&quot; href=&quot;https://cdn.jsdelivr.net/npm/@fortawesome/fontawesome-free@6.2.0/css/all.min.css&quot;/&gt;\n    &lt;link rel=&quot;stylesheet&quot; href=&quot;https://cdnjs.cloudflare.com/ajax/libs/Leaflet.awesome-markers/2.0.2/leaflet.awesome-markers.css&quot;/&gt;\n    &lt;link rel=&quot;stylesheet&quot; href=&quot;https://cdn.jsdelivr.net/gh/python-visualization/folium/folium/templates/leaflet.awesome.rotate.min.css&quot;/&gt;\n    \n            &lt;meta name=&quot;viewport&quot; content=&quot;width=device-width,\n                initial-scale=1.0, maximum-scale=1.0, user-scalable=no&quot; /&gt;\n            &lt;style&gt;\n                #map_916e908a9db9cb973de13262ecf42897 {\n                    position: relative;\n                    width: 100.0%;\n                    height: 100.0%;\n                    left: 0.0%;\n                    top: 0.0%;\n                }\n                .leaflet-container { font-size: 1rem; }\n            &lt;/style&gt;\n        \n&lt;/head&gt;\n&lt;body&gt;\n    \n    \n            &lt;div class=&quot;folium-map&quot; id=&quot;map_916e908a9db9cb973de13262ecf42897&quot; &gt;&lt;/div&gt;\n        \n&lt;/body&gt;\n&lt;script&gt;\n    \n    \n            var map_916e908a9db9cb973de13262ecf42897 = L.map(\n                &quot;map_916e908a9db9cb973de13262ecf42897&quot;,\n                {\n                    center: [29.559684888503615, -95.0830971930759],\n                    crs: L.CRS.EPSG3857,\n                    ...{\n  &quot;zoom&quot;: 10,\n  &quot;zoomControl&quot;: true,\n  &quot;preferCanvas&quot;: false,\n}\n\n                }\n            );\n\n            \n\n        \n    \n            var tile_layer_ba9e8131c2473c5244366142d76f1a24 = L.tileLayer(\n                &quot;https://tile.openstreetmap.org/{z}/{x}/{y}.png&quot;,\n                {\n  &quot;minZoom&quot;: 0,\n  &quot;maxZoom&quot;: 19,\n  &quot;maxNativeZoom&quot;: 19,\n  &quot;noWrap&quot;: false,\n  &quot;attribution&quot;: &quot;\\u0026copy; \\u003ca href=\\&quot;https://www.openstreetmap.org/copyright\\&quot;\\u003eOpenStreetMap\\u003c/a\\u003e contributors&quot;,\n  &quot;subdomains&quot;: &quot;abc&quot;,\n  &quot;detectRetina&quot;: false,\n  &quot;tms&quot;: false,\n  &quot;opacity&quot;: 1,\n}\n\n            );\n        \n    \n            tile_layer_ba9e8131c2473c5244366142d76f1a24.addTo(map_916e908a9db9cb973de13262ecf42897);\n        \n    \n            var circle_e78b237f4369cfe4eed244a6b793f66a = L.circle(\n                [29.559684888503615, -95.0830971930759],\n                {&quot;bubblingMouseEvents&quot;: true, &quot;color&quot;: &quot;#d35400&quot;, &quot;dashArray&quot;: null, &quot;dashOffset&quot;: null, &quot;fill&quot;: true, &quot;fillColor&quot;: &quot;#d35400&quot;, &quot;fillOpacity&quot;: 0.2, &quot;fillRule&quot;: &quot;evenodd&quot;, &quot;lineCap&quot;: &quot;round&quot;, &quot;lineJoin&quot;: &quot;round&quot;, &quot;opacity&quot;: 1.0, &quot;radius&quot;: 1000, &quot;stroke&quot;: true, &quot;weight&quot;: 3}\n            ).addTo(map_916e908a9db9cb973de13262ecf42897);\n        \n    \n        var popup_c3ffc187149bf08ba9f9b828b0e6f6d9 = L.popup({\n  &quot;maxWidth&quot;: &quot;100%&quot;,\n});\n\n        \n            \n                var html_0f0ca4233d8be2a004a86d91ee76e5f9 = $(`&lt;div id=&quot;html_0f0ca4233d8be2a004a86d91ee76e5f9&quot; style=&quot;width: 100.0%; height: 100.0%;&quot;&gt;NASA Johnson Space Center&lt;/div&gt;`)[0];\n                popup_c3ffc187149bf08ba9f9b828b0e6f6d9.setContent(html_0f0ca4233d8be2a004a86d91ee76e5f9);\n            \n        \n\n        circle_e78b237f4369cfe4eed244a6b793f66a.bindPopup(popup_c3ffc187149bf08ba9f9b828b0e6f6d9)\n        ;\n\n        \n    \n    \n            var marker_65a1315639d493357af8e74d34aa1cfe = L.marker(\n                [29.559684888503615, -95.0830971930759],\n                {\n}\n            ).addTo(map_916e908a9db9cb973de13262ecf42897);\n        \n    \n            var div_icon_90fed4eaf440dce1e75130c67eaa31f5 = L.divIcon({\n  &quot;html&quot;: &quot;\\u003cdiv style=\\&quot;font-size: 12; color:#d35400;\\&quot;\\u003e\\u003cb\\u003eNASA JSC\\u003c/b\\u003e\\u003c/div\\u003e&quot;,\n  &quot;iconSize&quot;: [20, 20],\n  &quot;iconAnchor&quot;: [0, 0],\n  &quot;className&quot;: &quot;empty&quot;,\n});\n            marker_65a1315639d493357af8e74d34aa1cfe.setIcon(div_icon_90fed4eaf440dce1e75130c67eaa31f5);\n        \n&lt;/script&gt;\n&lt;/html&gt;\" style=\"position:absolute;width:100%;height:100%;left:0;top:0;border:none !important;\" allowfullscreen webkitallowfullscreen mozallowfullscreen></iframe></div></div>"
          },
          "metadata": {}
        }
      ],
      "execution_count": 8
    },
    {
      "cell_type": "markdown",
      "source": "and you should find a small yellow circle near the city of Houston and you can zoom-in to see a larger circle.\n",
      "metadata": {}
    },
    {
      "cell_type": "markdown",
      "source": "Now, let's add a circle for each launch site in data frame `launch_sites`\n",
      "metadata": {}
    },
    {
      "cell_type": "markdown",
      "source": "*TODO:*  Create and add `folium.Circle` and `folium.Marker` for each launch site on the site map\n",
      "metadata": {}
    },
    {
      "cell_type": "markdown",
      "source": "An example of folium.Circle:\n",
      "metadata": {}
    },
    {
      "cell_type": "markdown",
      "source": "`folium.Circle(coordinate, radius=1000, color='#000000', fill=True).add_child(folium.Popup(...))`\n",
      "metadata": {}
    },
    {
      "cell_type": "markdown",
      "source": "An example of folium.Marker:\n",
      "metadata": {}
    },
    {
      "cell_type": "markdown",
      "source": "`folium.map.Marker(coordinate, icon=DivIcon(icon_size=(20,20),icon_anchor=(0,0), html='<div style=\"font-size: 12; color:#d35400;\"><b>%s</b></div>' % 'label', ))`\n",
      "metadata": {}
    },
    {
      "cell_type": "code",
      "source": "# Initial the map\nsite_map = folium.Map(location=nasa_coordinate, zoom_start=5)\n# For each launch site, add a Circle object based on its coordinate (Lat, Long) values. In addition, add Launch site name as a popup label\n",
      "metadata": {},
      "outputs": [],
      "execution_count": null
    },
    {
      "cell_type": "markdown",
      "source": "The generated map with marked launch sites should look similar to the following:\n",
      "metadata": {}
    },
    {
      "cell_type": "markdown",
      "source": "<center>\n    <img src=\"https://cf-courses-data.s3.us.cloud-object-storage.appdomain.cloud/IBM-DS0321EN-SkillsNetwork/labs/module_3/images/launch_site_markers.png\">\n</center>\n",
      "metadata": {}
    },
    {
      "cell_type": "markdown",
      "source": "Now, you can explore the map by zoom-in/out the marked areas\n, and try to answer the following questions:\n\n*   Are all launch sites in proximity to the Equator line?\n*   Are all launch sites in very close proximity to the coast?\n\nAlso please try to explain your findings.\n",
      "metadata": {}
    },
    {
      "cell_type": "code",
      "source": "# Task 2: Mark the success/failed launches for each site on the map\n# Importación de bibliotecas necesarias\nimport folium\nfrom folium.plugins import MarkerCluster, MousePosition\nfrom folium.features import DivIcon\n\n# Datos de los sitios de lanzamiento y detalles de los lanzamientos\nlaunch_sites = [\n    {\n        \"name\": \"Cape Canaveral LC-40\",\n        \"lat\": 28.5623,\n        \"lon\": -80.5774,\n        \"launches\": [\n            {\"date\": \"2023-01-01\", \"status\": \"success\"},\n            {\"date\": \"2023-02-15\", \"status\": \"failure\"},\n        ],\n    },\n    {\n        \"name\": \"Vandenberg SLC-4E\",\n        \"lat\": 34.6321,\n        \"lon\": -120.6106,\n        \"launches\": [\n            {\"date\": \"2023-03-05\", \"status\": \"success\"},\n            {\"date\": \"2023-04-10\", \"status\": \"success\"},\n        ],\n    },\n    {\n        \"name\": \"Cape Canaveral LC-39A\",\n        \"lat\": 28.5734,\n        \"lon\": -80.6469,\n        \"launches\": [\n            {\"date\": \"2023-05-20\", \"status\": \"failure\"},\n            {\"date\": \"2023-06-01\", \"status\": \"success\"},\n        ],\n    },\n    {\n        \"name\": \"Kourou ELA-3\",\n        \"lat\": 5.236,\n        \"lon\": -52.768,\n        \"launches\": [\n            {\"date\": \"2023-07-12\", \"status\": \"success\"},\n            {\"date\": \"2023-08-05\", \"status\": \"failure\"},\n        ],\n    },\n]\n\n# Crear un mapa centrado en una ubicación específica\nmapa = folium.Map(location=[20, -50], zoom_start=3)\n\n# Agregar el plugin MarkerCluster\nmarker_cluster = MarkerCluster().add_to(mapa)\n\n# Función para seleccionar color según el estado\ndef get_icon_color(status):\n    return \"green\" if status == \"success\" else \"red\"\n\n# Agregar lanzamientos al mapa\nfor site in launch_sites:\n    # Etiqueta del sitio\n    folium.Marker(\n        location=[site[\"lat\"], site[\"lon\"]],\n        icon=DivIcon(\n            icon_size=(150, 30),\n            icon_anchor=(0, 0),\n            html=f'<div style=\"font-size: 12px; color: black; font-weight: bold;\">{site[\"name\"]}</div>'\n        )\n    ).add_to(mapa)\n    \n    # Agregar lanzamientos individuales\n    for launch in site[\"launches\"]:\n        folium.Marker(\n            location=[site[\"lat\"], site[\"lon\"]],\n            popup=folium.Popup(f\"{site['name']}<br>Date: {launch['date']}<br>Status: {launch['status'].title()}\"),\n            icon=folium.Icon(color=get_icon_color(launch[\"status\"]), icon=\"rocket\", prefix=\"fa\")\n        ).add_to(marker_cluster)\n\n# Agregar MousePosition para mostrar latitud/longitud\nMousePosition(\n    position=\"topright\",\n    separator=\" | \",\n    prefix=\"Coordenadas:\",\n    num_digits=5,\n    empty_string=\"Sin posición\"\n).add_to(mapa)\n\n# Guardar el mapa en un archivo HTML (opcional)\nmapa.save(\"launches_success_failure.html\")\n\n# Mostrar el mapa en el entorno interactivo\nmapa\n",
      "metadata": {
        "trusted": true
      },
      "outputs": [
        {
          "execution_count": 9,
          "output_type": "execute_result",
          "data": {
            "text/plain": "<folium.folium.Map at 0x5b23f98>",
            "text/html": "<div style=\"width:100%;\"><div style=\"position:relative;width:100%;height:0;padding-bottom:60%;\"><span style=\"color:#565656\">Make this Notebook Trusted to load map: File -> Trust Notebook</span><iframe srcdoc=\"&lt;!DOCTYPE html&gt;\n&lt;html&gt;\n&lt;head&gt;\n    \n    &lt;meta http-equiv=&quot;content-type&quot; content=&quot;text/html; charset=UTF-8&quot; /&gt;\n    \n        &lt;script&gt;\n            L_NO_TOUCH = false;\n            L_DISABLE_3D = false;\n        &lt;/script&gt;\n    \n    &lt;style&gt;html, body {width: 100%;height: 100%;margin: 0;padding: 0;}&lt;/style&gt;\n    &lt;style&gt;#map {position:absolute;top:0;bottom:0;right:0;left:0;}&lt;/style&gt;\n    &lt;script src=&quot;https://cdn.jsdelivr.net/npm/leaflet@1.9.3/dist/leaflet.js&quot;&gt;&lt;/script&gt;\n    &lt;script src=&quot;https://code.jquery.com/jquery-3.7.1.min.js&quot;&gt;&lt;/script&gt;\n    &lt;script src=&quot;https://cdn.jsdelivr.net/npm/bootstrap@5.2.2/dist/js/bootstrap.bundle.min.js&quot;&gt;&lt;/script&gt;\n    &lt;script src=&quot;https://cdnjs.cloudflare.com/ajax/libs/Leaflet.awesome-markers/2.0.2/leaflet.awesome-markers.js&quot;&gt;&lt;/script&gt;\n    &lt;link rel=&quot;stylesheet&quot; href=&quot;https://cdn.jsdelivr.net/npm/leaflet@1.9.3/dist/leaflet.css&quot;/&gt;\n    &lt;link rel=&quot;stylesheet&quot; href=&quot;https://cdn.jsdelivr.net/npm/bootstrap@5.2.2/dist/css/bootstrap.min.css&quot;/&gt;\n    &lt;link rel=&quot;stylesheet&quot; href=&quot;https://netdna.bootstrapcdn.com/bootstrap/3.0.0/css/bootstrap-glyphicons.css&quot;/&gt;\n    &lt;link rel=&quot;stylesheet&quot; href=&quot;https://cdn.jsdelivr.net/npm/@fortawesome/fontawesome-free@6.2.0/css/all.min.css&quot;/&gt;\n    &lt;link rel=&quot;stylesheet&quot; href=&quot;https://cdnjs.cloudflare.com/ajax/libs/Leaflet.awesome-markers/2.0.2/leaflet.awesome-markers.css&quot;/&gt;\n    &lt;link rel=&quot;stylesheet&quot; href=&quot;https://cdn.jsdelivr.net/gh/python-visualization/folium/folium/templates/leaflet.awesome.rotate.min.css&quot;/&gt;\n    \n            &lt;meta name=&quot;viewport&quot; content=&quot;width=device-width,\n                initial-scale=1.0, maximum-scale=1.0, user-scalable=no&quot; /&gt;\n            &lt;style&gt;\n                #map_d4caca7ca08bd23afa1536cc22e52d1f {\n                    position: relative;\n                    width: 100.0%;\n                    height: 100.0%;\n                    left: 0.0%;\n                    top: 0.0%;\n                }\n                .leaflet-container { font-size: 1rem; }\n            &lt;/style&gt;\n        \n    &lt;script src=&quot;https://cdnjs.cloudflare.com/ajax/libs/leaflet.markercluster/1.1.0/leaflet.markercluster.js&quot;&gt;&lt;/script&gt;\n    &lt;link rel=&quot;stylesheet&quot; href=&quot;https://cdnjs.cloudflare.com/ajax/libs/leaflet.markercluster/1.1.0/MarkerCluster.css&quot;/&gt;\n    &lt;link rel=&quot;stylesheet&quot; href=&quot;https://cdnjs.cloudflare.com/ajax/libs/leaflet.markercluster/1.1.0/MarkerCluster.Default.css&quot;/&gt;\n    &lt;script src=&quot;https://cdn.jsdelivr.net/gh/ardhi/Leaflet.MousePosition/src/L.Control.MousePosition.min.js&quot;&gt;&lt;/script&gt;\n    &lt;link rel=&quot;stylesheet&quot; href=&quot;https://cdn.jsdelivr.net/gh/ardhi/Leaflet.MousePosition/src/L.Control.MousePosition.min.css&quot;/&gt;\n&lt;/head&gt;\n&lt;body&gt;\n    \n    \n            &lt;div class=&quot;folium-map&quot; id=&quot;map_d4caca7ca08bd23afa1536cc22e52d1f&quot; &gt;&lt;/div&gt;\n        \n&lt;/body&gt;\n&lt;script&gt;\n    \n    \n            var map_d4caca7ca08bd23afa1536cc22e52d1f = L.map(\n                &quot;map_d4caca7ca08bd23afa1536cc22e52d1f&quot;,\n                {\n                    center: [20.0, -50.0],\n                    crs: L.CRS.EPSG3857,\n                    ...{\n  &quot;zoom&quot;: 3,\n  &quot;zoomControl&quot;: true,\n  &quot;preferCanvas&quot;: false,\n}\n\n                }\n            );\n\n            \n\n        \n    \n            var tile_layer_d18800096a23d5f4b8cf0fc33f6eeed0 = L.tileLayer(\n                &quot;https://tile.openstreetmap.org/{z}/{x}/{y}.png&quot;,\n                {\n  &quot;minZoom&quot;: 0,\n  &quot;maxZoom&quot;: 19,\n  &quot;maxNativeZoom&quot;: 19,\n  &quot;noWrap&quot;: false,\n  &quot;attribution&quot;: &quot;\\u0026copy; \\u003ca href=\\&quot;https://www.openstreetmap.org/copyright\\&quot;\\u003eOpenStreetMap\\u003c/a\\u003e contributors&quot;,\n  &quot;subdomains&quot;: &quot;abc&quot;,\n  &quot;detectRetina&quot;: false,\n  &quot;tms&quot;: false,\n  &quot;opacity&quot;: 1,\n}\n\n            );\n        \n    \n            tile_layer_d18800096a23d5f4b8cf0fc33f6eeed0.addTo(map_d4caca7ca08bd23afa1536cc22e52d1f);\n        \n    \n            var marker_cluster_cde5ce32e071798718b3194e22af0955 = L.markerClusterGroup(\n                {\n}\n            );\n        \n    \n            var marker_82dcad45ab4c395a3e93c951a10cb9e9 = L.marker(\n                [28.5623, -80.5774],\n                {\n}\n            ).addTo(marker_cluster_cde5ce32e071798718b3194e22af0955);\n        \n    \n            var icon_bae064463a3c5b78f44d591d346cd1d7 = L.AwesomeMarkers.icon(\n                {\n  &quot;markerColor&quot;: &quot;green&quot;,\n  &quot;iconColor&quot;: &quot;white&quot;,\n  &quot;icon&quot;: &quot;rocket&quot;,\n  &quot;prefix&quot;: &quot;fa&quot;,\n  &quot;extraClasses&quot;: &quot;fa-rotate-0&quot;,\n}\n            );\n            marker_82dcad45ab4c395a3e93c951a10cb9e9.setIcon(icon_bae064463a3c5b78f44d591d346cd1d7);\n        \n    \n        var popup_0d08f64571e523f617c2962d8b1d2600 = L.popup({\n  &quot;maxWidth&quot;: &quot;100%&quot;,\n});\n\n        \n            \n                var html_2c334d6da3c68025405091a88bcafb21 = $(`&lt;div id=&quot;html_2c334d6da3c68025405091a88bcafb21&quot; style=&quot;width: 100.0%; height: 100.0%;&quot;&gt;Cape Canaveral LC-40&lt;br&gt;Date: 2023-01-01&lt;br&gt;Status: Success&lt;/div&gt;`)[0];\n                popup_0d08f64571e523f617c2962d8b1d2600.setContent(html_2c334d6da3c68025405091a88bcafb21);\n            \n        \n\n        marker_82dcad45ab4c395a3e93c951a10cb9e9.bindPopup(popup_0d08f64571e523f617c2962d8b1d2600)\n        ;\n\n        \n    \n    \n            var marker_06e8d69ae3375dc0011da0db237caf66 = L.marker(\n                [28.5623, -80.5774],\n                {\n}\n            ).addTo(marker_cluster_cde5ce32e071798718b3194e22af0955);\n        \n    \n            var icon_8089f592de4a38c3b19778674be4c624 = L.AwesomeMarkers.icon(\n                {\n  &quot;markerColor&quot;: &quot;red&quot;,\n  &quot;iconColor&quot;: &quot;white&quot;,\n  &quot;icon&quot;: &quot;rocket&quot;,\n  &quot;prefix&quot;: &quot;fa&quot;,\n  &quot;extraClasses&quot;: &quot;fa-rotate-0&quot;,\n}\n            );\n            marker_06e8d69ae3375dc0011da0db237caf66.setIcon(icon_8089f592de4a38c3b19778674be4c624);\n        \n    \n        var popup_f41a6de174d7cdbaa2b735ab811e89b4 = L.popup({\n  &quot;maxWidth&quot;: &quot;100%&quot;,\n});\n\n        \n            \n                var html_00f5ce24e2cb152895bc6cef7b0525f5 = $(`&lt;div id=&quot;html_00f5ce24e2cb152895bc6cef7b0525f5&quot; style=&quot;width: 100.0%; height: 100.0%;&quot;&gt;Cape Canaveral LC-40&lt;br&gt;Date: 2023-02-15&lt;br&gt;Status: Failure&lt;/div&gt;`)[0];\n                popup_f41a6de174d7cdbaa2b735ab811e89b4.setContent(html_00f5ce24e2cb152895bc6cef7b0525f5);\n            \n        \n\n        marker_06e8d69ae3375dc0011da0db237caf66.bindPopup(popup_f41a6de174d7cdbaa2b735ab811e89b4)\n        ;\n\n        \n    \n    \n            var marker_7fa46dccca72d485c032168fe72faf0a = L.marker(\n                [34.6321, -120.6106],\n                {\n}\n            ).addTo(marker_cluster_cde5ce32e071798718b3194e22af0955);\n        \n    \n            var icon_c7429a082266caf976835565be6f117a = L.AwesomeMarkers.icon(\n                {\n  &quot;markerColor&quot;: &quot;green&quot;,\n  &quot;iconColor&quot;: &quot;white&quot;,\n  &quot;icon&quot;: &quot;rocket&quot;,\n  &quot;prefix&quot;: &quot;fa&quot;,\n  &quot;extraClasses&quot;: &quot;fa-rotate-0&quot;,\n}\n            );\n            marker_7fa46dccca72d485c032168fe72faf0a.setIcon(icon_c7429a082266caf976835565be6f117a);\n        \n    \n        var popup_277be12b658589a590a5af70fe155bd4 = L.popup({\n  &quot;maxWidth&quot;: &quot;100%&quot;,\n});\n\n        \n            \n                var html_6bbcecaef7c88a7d906a262dcf6d8cb1 = $(`&lt;div id=&quot;html_6bbcecaef7c88a7d906a262dcf6d8cb1&quot; style=&quot;width: 100.0%; height: 100.0%;&quot;&gt;Vandenberg SLC-4E&lt;br&gt;Date: 2023-03-05&lt;br&gt;Status: Success&lt;/div&gt;`)[0];\n                popup_277be12b658589a590a5af70fe155bd4.setContent(html_6bbcecaef7c88a7d906a262dcf6d8cb1);\n            \n        \n\n        marker_7fa46dccca72d485c032168fe72faf0a.bindPopup(popup_277be12b658589a590a5af70fe155bd4)\n        ;\n\n        \n    \n    \n            var marker_a68ade98842b8a5f8a9bd280fd046f40 = L.marker(\n                [34.6321, -120.6106],\n                {\n}\n            ).addTo(marker_cluster_cde5ce32e071798718b3194e22af0955);\n        \n    \n            var icon_c737e1c9622fe5246f1606397ab40fa0 = L.AwesomeMarkers.icon(\n                {\n  &quot;markerColor&quot;: &quot;green&quot;,\n  &quot;iconColor&quot;: &quot;white&quot;,\n  &quot;icon&quot;: &quot;rocket&quot;,\n  &quot;prefix&quot;: &quot;fa&quot;,\n  &quot;extraClasses&quot;: &quot;fa-rotate-0&quot;,\n}\n            );\n            marker_a68ade98842b8a5f8a9bd280fd046f40.setIcon(icon_c737e1c9622fe5246f1606397ab40fa0);\n        \n    \n        var popup_9b2f5c3447e7ca57877dd40f67fca74f = L.popup({\n  &quot;maxWidth&quot;: &quot;100%&quot;,\n});\n\n        \n            \n                var html_0da5586476a6f345d4dfcaebb5e9ceba = $(`&lt;div id=&quot;html_0da5586476a6f345d4dfcaebb5e9ceba&quot; style=&quot;width: 100.0%; height: 100.0%;&quot;&gt;Vandenberg SLC-4E&lt;br&gt;Date: 2023-04-10&lt;br&gt;Status: Success&lt;/div&gt;`)[0];\n                popup_9b2f5c3447e7ca57877dd40f67fca74f.setContent(html_0da5586476a6f345d4dfcaebb5e9ceba);\n            \n        \n\n        marker_a68ade98842b8a5f8a9bd280fd046f40.bindPopup(popup_9b2f5c3447e7ca57877dd40f67fca74f)\n        ;\n\n        \n    \n    \n            var marker_4a1afbeee9651c3b067b997100197ae2 = L.marker(\n                [28.5734, -80.6469],\n                {\n}\n            ).addTo(marker_cluster_cde5ce32e071798718b3194e22af0955);\n        \n    \n            var icon_8ea596379487165029c083c1aec7a73b = L.AwesomeMarkers.icon(\n                {\n  &quot;markerColor&quot;: &quot;red&quot;,\n  &quot;iconColor&quot;: &quot;white&quot;,\n  &quot;icon&quot;: &quot;rocket&quot;,\n  &quot;prefix&quot;: &quot;fa&quot;,\n  &quot;extraClasses&quot;: &quot;fa-rotate-0&quot;,\n}\n            );\n            marker_4a1afbeee9651c3b067b997100197ae2.setIcon(icon_8ea596379487165029c083c1aec7a73b);\n        \n    \n        var popup_56f4d643ad35f829b1ef710c818a4df7 = L.popup({\n  &quot;maxWidth&quot;: &quot;100%&quot;,\n});\n\n        \n            \n                var html_781c4088128685cfb4d154bae5f868e0 = $(`&lt;div id=&quot;html_781c4088128685cfb4d154bae5f868e0&quot; style=&quot;width: 100.0%; height: 100.0%;&quot;&gt;Cape Canaveral LC-39A&lt;br&gt;Date: 2023-05-20&lt;br&gt;Status: Failure&lt;/div&gt;`)[0];\n                popup_56f4d643ad35f829b1ef710c818a4df7.setContent(html_781c4088128685cfb4d154bae5f868e0);\n            \n        \n\n        marker_4a1afbeee9651c3b067b997100197ae2.bindPopup(popup_56f4d643ad35f829b1ef710c818a4df7)\n        ;\n\n        \n    \n    \n            var marker_cb156940f5222346627cdfa41ef1f789 = L.marker(\n                [28.5734, -80.6469],\n                {\n}\n            ).addTo(marker_cluster_cde5ce32e071798718b3194e22af0955);\n        \n    \n            var icon_074a92d65cd02d93eb5deb5c42b084dd = L.AwesomeMarkers.icon(\n                {\n  &quot;markerColor&quot;: &quot;green&quot;,\n  &quot;iconColor&quot;: &quot;white&quot;,\n  &quot;icon&quot;: &quot;rocket&quot;,\n  &quot;prefix&quot;: &quot;fa&quot;,\n  &quot;extraClasses&quot;: &quot;fa-rotate-0&quot;,\n}\n            );\n            marker_cb156940f5222346627cdfa41ef1f789.setIcon(icon_074a92d65cd02d93eb5deb5c42b084dd);\n        \n    \n        var popup_a065be63459405f06227ea3ed27add4a = L.popup({\n  &quot;maxWidth&quot;: &quot;100%&quot;,\n});\n\n        \n            \n                var html_6a37135ad98d0ecb17f71f52f9a8d951 = $(`&lt;div id=&quot;html_6a37135ad98d0ecb17f71f52f9a8d951&quot; style=&quot;width: 100.0%; height: 100.0%;&quot;&gt;Cape Canaveral LC-39A&lt;br&gt;Date: 2023-06-01&lt;br&gt;Status: Success&lt;/div&gt;`)[0];\n                popup_a065be63459405f06227ea3ed27add4a.setContent(html_6a37135ad98d0ecb17f71f52f9a8d951);\n            \n        \n\n        marker_cb156940f5222346627cdfa41ef1f789.bindPopup(popup_a065be63459405f06227ea3ed27add4a)\n        ;\n\n        \n    \n    \n            var marker_d919f1ce18e308e13936273a187740d8 = L.marker(\n                [5.236, -52.768],\n                {\n}\n            ).addTo(marker_cluster_cde5ce32e071798718b3194e22af0955);\n        \n    \n            var icon_d51942061d8b6bd37f4e53f5eba22911 = L.AwesomeMarkers.icon(\n                {\n  &quot;markerColor&quot;: &quot;green&quot;,\n  &quot;iconColor&quot;: &quot;white&quot;,\n  &quot;icon&quot;: &quot;rocket&quot;,\n  &quot;prefix&quot;: &quot;fa&quot;,\n  &quot;extraClasses&quot;: &quot;fa-rotate-0&quot;,\n}\n            );\n            marker_d919f1ce18e308e13936273a187740d8.setIcon(icon_d51942061d8b6bd37f4e53f5eba22911);\n        \n    \n        var popup_8191dfe22bf4ec1548331ef72143a167 = L.popup({\n  &quot;maxWidth&quot;: &quot;100%&quot;,\n});\n\n        \n            \n                var html_efd9e4af09ebcb8e9819543c9a2d04af = $(`&lt;div id=&quot;html_efd9e4af09ebcb8e9819543c9a2d04af&quot; style=&quot;width: 100.0%; height: 100.0%;&quot;&gt;Kourou ELA-3&lt;br&gt;Date: 2023-07-12&lt;br&gt;Status: Success&lt;/div&gt;`)[0];\n                popup_8191dfe22bf4ec1548331ef72143a167.setContent(html_efd9e4af09ebcb8e9819543c9a2d04af);\n            \n        \n\n        marker_d919f1ce18e308e13936273a187740d8.bindPopup(popup_8191dfe22bf4ec1548331ef72143a167)\n        ;\n\n        \n    \n    \n            var marker_6c2947a5c94b40c6b4d5fd68974fd9bd = L.marker(\n                [5.236, -52.768],\n                {\n}\n            ).addTo(marker_cluster_cde5ce32e071798718b3194e22af0955);\n        \n    \n            var icon_d2e5e3318f047e12e38fd15a16fd85a2 = L.AwesomeMarkers.icon(\n                {\n  &quot;markerColor&quot;: &quot;red&quot;,\n  &quot;iconColor&quot;: &quot;white&quot;,\n  &quot;icon&quot;: &quot;rocket&quot;,\n  &quot;prefix&quot;: &quot;fa&quot;,\n  &quot;extraClasses&quot;: &quot;fa-rotate-0&quot;,\n}\n            );\n            marker_6c2947a5c94b40c6b4d5fd68974fd9bd.setIcon(icon_d2e5e3318f047e12e38fd15a16fd85a2);\n        \n    \n        var popup_74ba9a30a255932915078b491d46e9ee = L.popup({\n  &quot;maxWidth&quot;: &quot;100%&quot;,\n});\n\n        \n            \n                var html_4121f16608f6099a6e8d7dff28a1247a = $(`&lt;div id=&quot;html_4121f16608f6099a6e8d7dff28a1247a&quot; style=&quot;width: 100.0%; height: 100.0%;&quot;&gt;Kourou ELA-3&lt;br&gt;Date: 2023-08-05&lt;br&gt;Status: Failure&lt;/div&gt;`)[0];\n                popup_74ba9a30a255932915078b491d46e9ee.setContent(html_4121f16608f6099a6e8d7dff28a1247a);\n            \n        \n\n        marker_6c2947a5c94b40c6b4d5fd68974fd9bd.bindPopup(popup_74ba9a30a255932915078b491d46e9ee)\n        ;\n\n        \n    \n    \n            marker_cluster_cde5ce32e071798718b3194e22af0955.addTo(map_d4caca7ca08bd23afa1536cc22e52d1f);\n        \n    \n            var marker_4305618971d82af1fa74014902c92ff5 = L.marker(\n                [28.5623, -80.5774],\n                {\n}\n            ).addTo(map_d4caca7ca08bd23afa1536cc22e52d1f);\n        \n    \n            var div_icon_61c6a9cc8b257863494bef49c412afc1 = L.divIcon({\n  &quot;html&quot;: &quot;\\u003cdiv style=\\&quot;font-size: 12px; color: black; font-weight: bold;\\&quot;\\u003eCape Canaveral LC-40\\u003c/div\\u003e&quot;,\n  &quot;iconSize&quot;: [150, 30],\n  &quot;iconAnchor&quot;: [0, 0],\n  &quot;className&quot;: &quot;empty&quot;,\n});\n            marker_4305618971d82af1fa74014902c92ff5.setIcon(div_icon_61c6a9cc8b257863494bef49c412afc1);\n        \n    \n            var marker_12f735613feada19bb387a66d7fb3815 = L.marker(\n                [34.6321, -120.6106],\n                {\n}\n            ).addTo(map_d4caca7ca08bd23afa1536cc22e52d1f);\n        \n    \n            var div_icon_479bbff2bb63ff335d95d59f73780bbb = L.divIcon({\n  &quot;html&quot;: &quot;\\u003cdiv style=\\&quot;font-size: 12px; color: black; font-weight: bold;\\&quot;\\u003eVandenberg SLC-4E\\u003c/div\\u003e&quot;,\n  &quot;iconSize&quot;: [150, 30],\n  &quot;iconAnchor&quot;: [0, 0],\n  &quot;className&quot;: &quot;empty&quot;,\n});\n            marker_12f735613feada19bb387a66d7fb3815.setIcon(div_icon_479bbff2bb63ff335d95d59f73780bbb);\n        \n    \n            var marker_35613c45c846b4b6f8510572c22ed335 = L.marker(\n                [28.5734, -80.6469],\n                {\n}\n            ).addTo(map_d4caca7ca08bd23afa1536cc22e52d1f);\n        \n    \n            var div_icon_04ddc21c6f4d58b64b5b9ff08c93eae0 = L.divIcon({\n  &quot;html&quot;: &quot;\\u003cdiv style=\\&quot;font-size: 12px; color: black; font-weight: bold;\\&quot;\\u003eCape Canaveral LC-39A\\u003c/div\\u003e&quot;,\n  &quot;iconSize&quot;: [150, 30],\n  &quot;iconAnchor&quot;: [0, 0],\n  &quot;className&quot;: &quot;empty&quot;,\n});\n            marker_35613c45c846b4b6f8510572c22ed335.setIcon(div_icon_04ddc21c6f4d58b64b5b9ff08c93eae0);\n        \n    \n            var marker_7961434b1a809d8f4e86a26dd3d67a2b = L.marker(\n                [5.236, -52.768],\n                {\n}\n            ).addTo(map_d4caca7ca08bd23afa1536cc22e52d1f);\n        \n    \n            var div_icon_b922f12342e2cbaca63b87dfafc8bda6 = L.divIcon({\n  &quot;html&quot;: &quot;\\u003cdiv style=\\&quot;font-size: 12px; color: black; font-weight: bold;\\&quot;\\u003eKourou ELA-3\\u003c/div\\u003e&quot;,\n  &quot;iconSize&quot;: [150, 30],\n  &quot;iconAnchor&quot;: [0, 0],\n  &quot;className&quot;: &quot;empty&quot;,\n});\n            marker_7961434b1a809d8f4e86a26dd3d67a2b.setIcon(div_icon_b922f12342e2cbaca63b87dfafc8bda6);\n        \n    \n            var mouse_position_3a0c7d0a03c690143c4eb346d24ed223 = new L.Control.MousePosition(\n                {\n  &quot;position&quot;: &quot;topright&quot;,\n  &quot;separator&quot;: &quot; | &quot;,\n  &quot;emptyString&quot;: &quot;Sin posici\\u00f3n&quot;,\n  &quot;lngFirst&quot;: false,\n  &quot;numDigits&quot;: 5,\n  &quot;prefix&quot;: &quot;Coordenadas:&quot;,\n}\n            );\n            mouse_position_3a0c7d0a03c690143c4eb346d24ed223.options[&quot;latFormatter&quot;] =\n                undefined;\n            mouse_position_3a0c7d0a03c690143c4eb346d24ed223.options[&quot;lngFormatter&quot;] =\n                undefined;\n            map_d4caca7ca08bd23afa1536cc22e52d1f.addControl(mouse_position_3a0c7d0a03c690143c4eb346d24ed223);\n        \n    \n            tile_layer_d18800096a23d5f4b8cf0fc33f6eeed0.addTo(map_d4caca7ca08bd23afa1536cc22e52d1f);\n        \n    \n            marker_cluster_cde5ce32e071798718b3194e22af0955.addTo(map_d4caca7ca08bd23afa1536cc22e52d1f);\n        \n&lt;/script&gt;\n&lt;/html&gt;\" style=\"position:absolute;width:100%;height:100%;left:0;top:0;border:none !important;\" allowfullscreen webkitallowfullscreen mozallowfullscreen></iframe></div></div>"
          },
          "metadata": {}
        }
      ],
      "execution_count": 9
    },
    {
      "cell_type": "markdown",
      "source": "Next, let's try to enhance the map by adding the launch outcomes for each site, and see which sites have high success rates.\nRecall that data frame spacex_df has detailed launch records, and the `class` column indicates if this launch was successful or not\n",
      "metadata": {}
    },
    {
      "cell_type": "code",
      "source": "spacex_df.tail(10)",
      "metadata": {
        "trusted": true
      },
      "outputs": [
        {
          "execution_count": 10,
          "output_type": "execute_result",
          "data": {
            "text/plain": "     Launch Site        Lat       Long  class\n46    KSC LC-39A  28.573255 -80.646895      1\n47    KSC LC-39A  28.573255 -80.646895      1\n48    KSC LC-39A  28.573255 -80.646895      1\n49  CCAFS SLC-40  28.563197 -80.576820      1\n50  CCAFS SLC-40  28.563197 -80.576820      1\n51  CCAFS SLC-40  28.563197 -80.576820      0\n52  CCAFS SLC-40  28.563197 -80.576820      0\n53  CCAFS SLC-40  28.563197 -80.576820      0\n54  CCAFS SLC-40  28.563197 -80.576820      1\n55  CCAFS SLC-40  28.563197 -80.576820      0",
            "text/html": "<div>\n<style scoped>\n    .dataframe tbody tr th:only-of-type {\n        vertical-align: middle;\n    }\n\n    .dataframe tbody tr th {\n        vertical-align: top;\n    }\n\n    .dataframe thead th {\n        text-align: right;\n    }\n</style>\n<table border=\"1\" class=\"dataframe\">\n  <thead>\n    <tr style=\"text-align: right;\">\n      <th></th>\n      <th>Launch Site</th>\n      <th>Lat</th>\n      <th>Long</th>\n      <th>class</th>\n    </tr>\n  </thead>\n  <tbody>\n    <tr>\n      <th>46</th>\n      <td>KSC LC-39A</td>\n      <td>28.573255</td>\n      <td>-80.646895</td>\n      <td>1</td>\n    </tr>\n    <tr>\n      <th>47</th>\n      <td>KSC LC-39A</td>\n      <td>28.573255</td>\n      <td>-80.646895</td>\n      <td>1</td>\n    </tr>\n    <tr>\n      <th>48</th>\n      <td>KSC LC-39A</td>\n      <td>28.573255</td>\n      <td>-80.646895</td>\n      <td>1</td>\n    </tr>\n    <tr>\n      <th>49</th>\n      <td>CCAFS SLC-40</td>\n      <td>28.563197</td>\n      <td>-80.576820</td>\n      <td>1</td>\n    </tr>\n    <tr>\n      <th>50</th>\n      <td>CCAFS SLC-40</td>\n      <td>28.563197</td>\n      <td>-80.576820</td>\n      <td>1</td>\n    </tr>\n    <tr>\n      <th>51</th>\n      <td>CCAFS SLC-40</td>\n      <td>28.563197</td>\n      <td>-80.576820</td>\n      <td>0</td>\n    </tr>\n    <tr>\n      <th>52</th>\n      <td>CCAFS SLC-40</td>\n      <td>28.563197</td>\n      <td>-80.576820</td>\n      <td>0</td>\n    </tr>\n    <tr>\n      <th>53</th>\n      <td>CCAFS SLC-40</td>\n      <td>28.563197</td>\n      <td>-80.576820</td>\n      <td>0</td>\n    </tr>\n    <tr>\n      <th>54</th>\n      <td>CCAFS SLC-40</td>\n      <td>28.563197</td>\n      <td>-80.576820</td>\n      <td>1</td>\n    </tr>\n    <tr>\n      <th>55</th>\n      <td>CCAFS SLC-40</td>\n      <td>28.563197</td>\n      <td>-80.576820</td>\n      <td>0</td>\n    </tr>\n  </tbody>\n</table>\n</div>"
          },
          "metadata": {}
        }
      ],
      "execution_count": 10
    },
    {
      "cell_type": "markdown",
      "source": "Next, let's create markers for all launch records.\nIf a launch was successful `(class=1)`, then we use a green marker and if a launch was failed, we use a red marker `(class=0)`\n",
      "metadata": {}
    },
    {
      "cell_type": "markdown",
      "source": "Note that a launch only happens in one of the four launch sites, which means many launch records will have the exact same coordinate. Marker clusters can be a good way to simplify a map containing many markers having the same coordinate.\n",
      "metadata": {}
    },
    {
      "cell_type": "markdown",
      "source": "Let's first create a `MarkerCluster` object\n",
      "metadata": {}
    },
    {
      "cell_type": "code",
      "source": "marker_cluster = MarkerCluster()\n",
      "metadata": {
        "trusted": true
      },
      "outputs": [],
      "execution_count": 11
    },
    {
      "cell_type": "markdown",
      "source": "*TODO:* Create a new column in `spacex_df` dataframe called `marker_color` to store the marker colors based on the `class` value\n",
      "metadata": {}
    },
    {
      "cell_type": "code",
      "source": "\nimport pandas as pd\n\n# Supongamos que spacex_df ya existe, aquí tienes un ejemplo de datos\ndata = {\n    'Flight': [1, 2, 3, 4, 5],\n    'class': [1, 0, 1, 0, 1]\n}\n\n# Crear el DataFrame de ejemplo\nspacex_df = pd.DataFrame(data)\n\n# Función para asignar el color basado en el valor de 'class'\ndef assign_marker_color(class_value):\n    if class_value == 1:\n        return 'green'\n    else:\n        return 'red'\n\n# Crear la columna 'marker_color' usando .apply()\nspacex_df['marker_color'] = spacex_df['class'].apply(assign_marker_color)\n\n# Mostrar el DataFrame actualizado\nprint(spacex_df)\n",
      "metadata": {
        "trusted": true
      },
      "outputs": [
        {
          "name": "stdout",
          "text": "   Flight  class marker_color\n0       1      1        green\n1       2      0          red\n2       3      1        green\n3       4      0          red\n4       5      1        green\n",
          "output_type": "stream"
        }
      ],
      "execution_count": 12
    },
    {
      "cell_type": "markdown",
      "source": "*TODO:* For each launch result in `spacex_df` data frame, add a `folium.Marker` to `marker_cluster`\n",
      "metadata": {}
    },
    {
      "cell_type": "code",
      "source": "# Add marker_cluster to current site_map\nsite_map.add_child(marker_cluster)\n\n# for each row in spacex_df data frame\n# create a Marker object with its coordinate\n# and customize the Marker's icon property to indicate if this launch was successed or failed, \n# e.g., icon=folium.Icon(color='white', icon_color=row['marker_color']\nfor index, record in spacex_df.iterrows():\n    # TODO: Create and add a Marker cluster to the site map\n    # marker = folium.Marker(...)\n    marker_cluster.add_child(marker)\n\nsite_map",
      "metadata": {
        "trusted": true
      },
      "outputs": [
        {
          "execution_count": 13,
          "output_type": "execute_result",
          "data": {
            "text/plain": "<folium.folium.Map at 0x1347748>",
            "text/html": "<div style=\"width:100%;\"><div style=\"position:relative;width:100%;height:0;padding-bottom:60%;\"><span style=\"color:#565656\">Make this Notebook Trusted to load map: File -> Trust Notebook</span><iframe srcdoc=\"&lt;!DOCTYPE html&gt;\n&lt;html&gt;\n&lt;head&gt;\n    \n    &lt;meta http-equiv=&quot;content-type&quot; content=&quot;text/html; charset=UTF-8&quot; /&gt;\n    \n        &lt;script&gt;\n            L_NO_TOUCH = false;\n            L_DISABLE_3D = false;\n        &lt;/script&gt;\n    \n    &lt;style&gt;html, body {width: 100%;height: 100%;margin: 0;padding: 0;}&lt;/style&gt;\n    &lt;style&gt;#map {position:absolute;top:0;bottom:0;right:0;left:0;}&lt;/style&gt;\n    &lt;script src=&quot;https://cdn.jsdelivr.net/npm/leaflet@1.9.3/dist/leaflet.js&quot;&gt;&lt;/script&gt;\n    &lt;script src=&quot;https://code.jquery.com/jquery-3.7.1.min.js&quot;&gt;&lt;/script&gt;\n    &lt;script src=&quot;https://cdn.jsdelivr.net/npm/bootstrap@5.2.2/dist/js/bootstrap.bundle.min.js&quot;&gt;&lt;/script&gt;\n    &lt;script src=&quot;https://cdnjs.cloudflare.com/ajax/libs/Leaflet.awesome-markers/2.0.2/leaflet.awesome-markers.js&quot;&gt;&lt;/script&gt;\n    &lt;link rel=&quot;stylesheet&quot; href=&quot;https://cdn.jsdelivr.net/npm/leaflet@1.9.3/dist/leaflet.css&quot;/&gt;\n    &lt;link rel=&quot;stylesheet&quot; href=&quot;https://cdn.jsdelivr.net/npm/bootstrap@5.2.2/dist/css/bootstrap.min.css&quot;/&gt;\n    &lt;link rel=&quot;stylesheet&quot; href=&quot;https://netdna.bootstrapcdn.com/bootstrap/3.0.0/css/bootstrap-glyphicons.css&quot;/&gt;\n    &lt;link rel=&quot;stylesheet&quot; href=&quot;https://cdn.jsdelivr.net/npm/@fortawesome/fontawesome-free@6.2.0/css/all.min.css&quot;/&gt;\n    &lt;link rel=&quot;stylesheet&quot; href=&quot;https://cdnjs.cloudflare.com/ajax/libs/Leaflet.awesome-markers/2.0.2/leaflet.awesome-markers.css&quot;/&gt;\n    &lt;link rel=&quot;stylesheet&quot; href=&quot;https://cdn.jsdelivr.net/gh/python-visualization/folium/folium/templates/leaflet.awesome.rotate.min.css&quot;/&gt;\n    \n            &lt;meta name=&quot;viewport&quot; content=&quot;width=device-width,\n                initial-scale=1.0, maximum-scale=1.0, user-scalable=no&quot; /&gt;\n            &lt;style&gt;\n                #map_916e908a9db9cb973de13262ecf42897 {\n                    position: relative;\n                    width: 100.0%;\n                    height: 100.0%;\n                    left: 0.0%;\n                    top: 0.0%;\n                }\n                .leaflet-container { font-size: 1rem; }\n            &lt;/style&gt;\n        \n    &lt;script src=&quot;https://cdnjs.cloudflare.com/ajax/libs/leaflet.markercluster/1.1.0/leaflet.markercluster.js&quot;&gt;&lt;/script&gt;\n    &lt;link rel=&quot;stylesheet&quot; href=&quot;https://cdnjs.cloudflare.com/ajax/libs/leaflet.markercluster/1.1.0/MarkerCluster.css&quot;/&gt;\n    &lt;link rel=&quot;stylesheet&quot; href=&quot;https://cdnjs.cloudflare.com/ajax/libs/leaflet.markercluster/1.1.0/MarkerCluster.Default.css&quot;/&gt;\n&lt;/head&gt;\n&lt;body&gt;\n    \n    \n            &lt;div class=&quot;folium-map&quot; id=&quot;map_916e908a9db9cb973de13262ecf42897&quot; &gt;&lt;/div&gt;\n        \n&lt;/body&gt;\n&lt;script&gt;\n    \n    \n            var map_916e908a9db9cb973de13262ecf42897 = L.map(\n                &quot;map_916e908a9db9cb973de13262ecf42897&quot;,\n                {\n                    center: [29.559684888503615, -95.0830971930759],\n                    crs: L.CRS.EPSG3857,\n                    ...{\n  &quot;zoom&quot;: 10,\n  &quot;zoomControl&quot;: true,\n  &quot;preferCanvas&quot;: false,\n}\n\n                }\n            );\n\n            \n\n        \n    \n            var tile_layer_ba9e8131c2473c5244366142d76f1a24 = L.tileLayer(\n                &quot;https://tile.openstreetmap.org/{z}/{x}/{y}.png&quot;,\n                {\n  &quot;minZoom&quot;: 0,\n  &quot;maxZoom&quot;: 19,\n  &quot;maxNativeZoom&quot;: 19,\n  &quot;noWrap&quot;: false,\n  &quot;attribution&quot;: &quot;\\u0026copy; \\u003ca href=\\&quot;https://www.openstreetmap.org/copyright\\&quot;\\u003eOpenStreetMap\\u003c/a\\u003e contributors&quot;,\n  &quot;subdomains&quot;: &quot;abc&quot;,\n  &quot;detectRetina&quot;: false,\n  &quot;tms&quot;: false,\n  &quot;opacity&quot;: 1,\n}\n\n            );\n        \n    \n            tile_layer_ba9e8131c2473c5244366142d76f1a24.addTo(map_916e908a9db9cb973de13262ecf42897);\n        \n    \n            var circle_e78b237f4369cfe4eed244a6b793f66a = L.circle(\n                [29.559684888503615, -95.0830971930759],\n                {&quot;bubblingMouseEvents&quot;: true, &quot;color&quot;: &quot;#d35400&quot;, &quot;dashArray&quot;: null, &quot;dashOffset&quot;: null, &quot;fill&quot;: true, &quot;fillColor&quot;: &quot;#d35400&quot;, &quot;fillOpacity&quot;: 0.2, &quot;fillRule&quot;: &quot;evenodd&quot;, &quot;lineCap&quot;: &quot;round&quot;, &quot;lineJoin&quot;: &quot;round&quot;, &quot;opacity&quot;: 1.0, &quot;radius&quot;: 1000, &quot;stroke&quot;: true, &quot;weight&quot;: 3}\n            ).addTo(map_916e908a9db9cb973de13262ecf42897);\n        \n    \n        var popup_c3ffc187149bf08ba9f9b828b0e6f6d9 = L.popup({\n  &quot;maxWidth&quot;: &quot;100%&quot;,\n});\n\n        \n            \n                var html_0f0ca4233d8be2a004a86d91ee76e5f9 = $(`&lt;div id=&quot;html_0f0ca4233d8be2a004a86d91ee76e5f9&quot; style=&quot;width: 100.0%; height: 100.0%;&quot;&gt;NASA Johnson Space Center&lt;/div&gt;`)[0];\n                popup_c3ffc187149bf08ba9f9b828b0e6f6d9.setContent(html_0f0ca4233d8be2a004a86d91ee76e5f9);\n            \n        \n\n        circle_e78b237f4369cfe4eed244a6b793f66a.bindPopup(popup_c3ffc187149bf08ba9f9b828b0e6f6d9)\n        ;\n\n        \n    \n    \n            var marker_65a1315639d493357af8e74d34aa1cfe = L.marker(\n                [29.559684888503615, -95.0830971930759],\n                {\n}\n            ).addTo(marker_cluster_5919577a220f5e933cb87b32205ac004);\n        \n    \n            var div_icon_90fed4eaf440dce1e75130c67eaa31f5 = L.divIcon({\n  &quot;html&quot;: &quot;\\u003cdiv style=\\&quot;font-size: 12; color:#d35400;\\&quot;\\u003e\\u003cb\\u003eNASA JSC\\u003c/b\\u003e\\u003c/div\\u003e&quot;,\n  &quot;iconSize&quot;: [20, 20],\n  &quot;iconAnchor&quot;: [0, 0],\n  &quot;className&quot;: &quot;empty&quot;,\n});\n            marker_65a1315639d493357af8e74d34aa1cfe.setIcon(div_icon_90fed4eaf440dce1e75130c67eaa31f5);\n        \n    \n            tile_layer_ba9e8131c2473c5244366142d76f1a24.addTo(map_916e908a9db9cb973de13262ecf42897);\n        \n    \n            var marker_cluster_5919577a220f5e933cb87b32205ac004 = L.markerClusterGroup(\n                {\n}\n            );\n        \n    \n            marker_cluster_5919577a220f5e933cb87b32205ac004.addTo(map_916e908a9db9cb973de13262ecf42897);\n        \n&lt;/script&gt;\n&lt;/html&gt;\" style=\"position:absolute;width:100%;height:100%;left:0;top:0;border:none !important;\" allowfullscreen webkitallowfullscreen mozallowfullscreen></iframe></div></div>"
          },
          "metadata": {}
        }
      ],
      "execution_count": 13
    },
    {
      "cell_type": "markdown",
      "source": "Your updated map may look like the following screenshots:\n",
      "metadata": {}
    },
    {
      "cell_type": "markdown",
      "source": "<center>\n    <img src=\"https://cf-courses-data.s3.us.cloud-object-storage.appdomain.cloud/IBM-DS0321EN-SkillsNetwork/labs/module_3/images/launch_site_marker_cluster.png\">\n</center>\n",
      "metadata": {}
    },
    {
      "cell_type": "markdown",
      "source": "<center>\n    <img src=\"https://cf-courses-data.s3.us.cloud-object-storage.appdomain.cloud/IBM-DS0321EN-SkillsNetwork/labs/module_3/images/launch_site_marker_cluster_zoomed.png\">\n</center>\n",
      "metadata": {}
    },
    {
      "cell_type": "markdown",
      "source": "From the color-labeled markers in marker clusters, you should be able to easily identify which launch sites have relatively high success rates.\n",
      "metadata": {}
    },
    {
      "cell_type": "code",
      "source": "# TASK 3: Calculate the distances between a launch site to its proximities\nimport pandas as pd\nimport math\n\n# Datos de ejemplo con coordenadas de lanzamiento y puntos de proximidad\nlaunch_sites = {\n    \"site_name\": [\"Cape Canaveral LC-40\"],\n    \"lat\": [28.5623],\n    \"lon\": [-80.5774]\n}\n\nproximities = {\n    \"name\": [\"Nearby Airport\", \"Nearby Highway\", \"Nearby Port\"],\n    \"lat\": [28.4294, 28.5634, 28.4100],\n    \"lon\": [-81.3089, -80.5708, -80.6270]\n}\n\n# Crear DataFrames\nlaunch_df = pd.DataFrame(launch_sites)\nprox_df = pd.DataFrame(proximities)\n\n# Función para calcular la distancia usando la fórmula Haversine\ndef haversine(lat1, lon1, lat2, lon2):\n    R = 6371  # Radio de la Tierra en km\n    dlat = math.radians(lat2 - lat1)\n    dlon = math.radians(lon2 - lon1)\n    a = math.sin(dlat/2)**2 + math.cos(math.radians(lat1)) * math.cos(math.radians(lat2)) * math.sin(dlon/2)**2\n    c = 2 * math.atan2(math.sqrt(a), math.sqrt(1 - a))\n    return R * c\n\n# Calcular distancias entre el sitio de lanzamiento y los puntos de proximidad\ndistances = []\nfor _, prox in prox_df.iterrows():\n    distance = haversine(launch_df['lat'][0], launch_df['lon'][0], prox['lat'], prox['lon'])\n    distances.append(distance)\n\n# Añadir las distancias al DataFrame de proximidades\nprox_df['distance_km'] = distances\n\n# Mostrar el DataFrame resultante\nprint(prox_df)\n",
      "metadata": {
        "trusted": true
      },
      "outputs": [
        {
          "name": "stdout",
          "text": "             name      lat      lon  distance_km\n0  Nearby Airport  28.4294 -81.3089    72.996355\n1  Nearby Highway  28.5634 -80.5708     0.656070\n2     Nearby Port  28.4100 -80.6270    17.615121\n",
          "output_type": "stream"
        }
      ],
      "execution_count": 14
    },
    {
      "cell_type": "markdown",
      "source": "Next, we need to explore and analyze the proximities of launch sites.\n",
      "metadata": {}
    },
    {
      "cell_type": "markdown",
      "source": "Let's first add a `MousePosition` on the map to get coordinate for a mouse over a point on the map. As such, while you are exploring the map, you can easily find the coordinates of any points of interests (such as railway)\n",
      "metadata": {}
    },
    {
      "cell_type": "code",
      "source": "# Add Mouse Position to get the coordinate (Lat, Long) for a mouse over on the map\nformatter = \"function(num) {return L.Util.formatNum(num, 5);};\"\nmouse_position = MousePosition(\n    position='topright',\n    separator=' Long: ',\n    empty_string='NaN',\n    lng_first=False,\n    num_digits=20,\n    prefix='Lat:',\n    lat_formatter=formatter,\n    lng_formatter=formatter,\n)\n\nsite_map.add_child(mouse_position)\nsite_map",
      "metadata": {
        "trusted": true
      },
      "outputs": [
        {
          "execution_count": 15,
          "output_type": "execute_result",
          "data": {
            "text/plain": "<folium.folium.Map at 0x1347748>",
            "text/html": "<div style=\"width:100%;\"><div style=\"position:relative;width:100%;height:0;padding-bottom:60%;\"><span style=\"color:#565656\">Make this Notebook Trusted to load map: File -> Trust Notebook</span><iframe srcdoc=\"&lt;!DOCTYPE html&gt;\n&lt;html&gt;\n&lt;head&gt;\n    \n    &lt;meta http-equiv=&quot;content-type&quot; content=&quot;text/html; charset=UTF-8&quot; /&gt;\n    \n        &lt;script&gt;\n            L_NO_TOUCH = false;\n            L_DISABLE_3D = false;\n        &lt;/script&gt;\n    \n    &lt;style&gt;html, body {width: 100%;height: 100%;margin: 0;padding: 0;}&lt;/style&gt;\n    &lt;style&gt;#map {position:absolute;top:0;bottom:0;right:0;left:0;}&lt;/style&gt;\n    &lt;script src=&quot;https://cdn.jsdelivr.net/npm/leaflet@1.9.3/dist/leaflet.js&quot;&gt;&lt;/script&gt;\n    &lt;script src=&quot;https://code.jquery.com/jquery-3.7.1.min.js&quot;&gt;&lt;/script&gt;\n    &lt;script src=&quot;https://cdn.jsdelivr.net/npm/bootstrap@5.2.2/dist/js/bootstrap.bundle.min.js&quot;&gt;&lt;/script&gt;\n    &lt;script src=&quot;https://cdnjs.cloudflare.com/ajax/libs/Leaflet.awesome-markers/2.0.2/leaflet.awesome-markers.js&quot;&gt;&lt;/script&gt;\n    &lt;link rel=&quot;stylesheet&quot; href=&quot;https://cdn.jsdelivr.net/npm/leaflet@1.9.3/dist/leaflet.css&quot;/&gt;\n    &lt;link rel=&quot;stylesheet&quot; href=&quot;https://cdn.jsdelivr.net/npm/bootstrap@5.2.2/dist/css/bootstrap.min.css&quot;/&gt;\n    &lt;link rel=&quot;stylesheet&quot; href=&quot;https://netdna.bootstrapcdn.com/bootstrap/3.0.0/css/bootstrap-glyphicons.css&quot;/&gt;\n    &lt;link rel=&quot;stylesheet&quot; href=&quot;https://cdn.jsdelivr.net/npm/@fortawesome/fontawesome-free@6.2.0/css/all.min.css&quot;/&gt;\n    &lt;link rel=&quot;stylesheet&quot; href=&quot;https://cdnjs.cloudflare.com/ajax/libs/Leaflet.awesome-markers/2.0.2/leaflet.awesome-markers.css&quot;/&gt;\n    &lt;link rel=&quot;stylesheet&quot; href=&quot;https://cdn.jsdelivr.net/gh/python-visualization/folium/folium/templates/leaflet.awesome.rotate.min.css&quot;/&gt;\n    \n            &lt;meta name=&quot;viewport&quot; content=&quot;width=device-width,\n                initial-scale=1.0, maximum-scale=1.0, user-scalable=no&quot; /&gt;\n            &lt;style&gt;\n                #map_916e908a9db9cb973de13262ecf42897 {\n                    position: relative;\n                    width: 100.0%;\n                    height: 100.0%;\n                    left: 0.0%;\n                    top: 0.0%;\n                }\n                .leaflet-container { font-size: 1rem; }\n            &lt;/style&gt;\n        \n    &lt;script src=&quot;https://cdnjs.cloudflare.com/ajax/libs/leaflet.markercluster/1.1.0/leaflet.markercluster.js&quot;&gt;&lt;/script&gt;\n    &lt;link rel=&quot;stylesheet&quot; href=&quot;https://cdnjs.cloudflare.com/ajax/libs/leaflet.markercluster/1.1.0/MarkerCluster.css&quot;/&gt;\n    &lt;link rel=&quot;stylesheet&quot; href=&quot;https://cdnjs.cloudflare.com/ajax/libs/leaflet.markercluster/1.1.0/MarkerCluster.Default.css&quot;/&gt;\n    &lt;script src=&quot;https://cdn.jsdelivr.net/gh/ardhi/Leaflet.MousePosition/src/L.Control.MousePosition.min.js&quot;&gt;&lt;/script&gt;\n    &lt;link rel=&quot;stylesheet&quot; href=&quot;https://cdn.jsdelivr.net/gh/ardhi/Leaflet.MousePosition/src/L.Control.MousePosition.min.css&quot;/&gt;\n&lt;/head&gt;\n&lt;body&gt;\n    \n    \n            &lt;div class=&quot;folium-map&quot; id=&quot;map_916e908a9db9cb973de13262ecf42897&quot; &gt;&lt;/div&gt;\n        \n&lt;/body&gt;\n&lt;script&gt;\n    \n    \n            var map_916e908a9db9cb973de13262ecf42897 = L.map(\n                &quot;map_916e908a9db9cb973de13262ecf42897&quot;,\n                {\n                    center: [29.559684888503615, -95.0830971930759],\n                    crs: L.CRS.EPSG3857,\n                    ...{\n  &quot;zoom&quot;: 10,\n  &quot;zoomControl&quot;: true,\n  &quot;preferCanvas&quot;: false,\n}\n\n                }\n            );\n\n            \n\n        \n    \n            var tile_layer_ba9e8131c2473c5244366142d76f1a24 = L.tileLayer(\n                &quot;https://tile.openstreetmap.org/{z}/{x}/{y}.png&quot;,\n                {\n  &quot;minZoom&quot;: 0,\n  &quot;maxZoom&quot;: 19,\n  &quot;maxNativeZoom&quot;: 19,\n  &quot;noWrap&quot;: false,\n  &quot;attribution&quot;: &quot;\\u0026copy; \\u003ca href=\\&quot;https://www.openstreetmap.org/copyright\\&quot;\\u003eOpenStreetMap\\u003c/a\\u003e contributors&quot;,\n  &quot;subdomains&quot;: &quot;abc&quot;,\n  &quot;detectRetina&quot;: false,\n  &quot;tms&quot;: false,\n  &quot;opacity&quot;: 1,\n}\n\n            );\n        \n    \n            tile_layer_ba9e8131c2473c5244366142d76f1a24.addTo(map_916e908a9db9cb973de13262ecf42897);\n        \n    \n            var circle_e78b237f4369cfe4eed244a6b793f66a = L.circle(\n                [29.559684888503615, -95.0830971930759],\n                {&quot;bubblingMouseEvents&quot;: true, &quot;color&quot;: &quot;#d35400&quot;, &quot;dashArray&quot;: null, &quot;dashOffset&quot;: null, &quot;fill&quot;: true, &quot;fillColor&quot;: &quot;#d35400&quot;, &quot;fillOpacity&quot;: 0.2, &quot;fillRule&quot;: &quot;evenodd&quot;, &quot;lineCap&quot;: &quot;round&quot;, &quot;lineJoin&quot;: &quot;round&quot;, &quot;opacity&quot;: 1.0, &quot;radius&quot;: 1000, &quot;stroke&quot;: true, &quot;weight&quot;: 3}\n            ).addTo(map_916e908a9db9cb973de13262ecf42897);\n        \n    \n        var popup_c3ffc187149bf08ba9f9b828b0e6f6d9 = L.popup({\n  &quot;maxWidth&quot;: &quot;100%&quot;,\n});\n\n        \n            \n                var html_0f0ca4233d8be2a004a86d91ee76e5f9 = $(`&lt;div id=&quot;html_0f0ca4233d8be2a004a86d91ee76e5f9&quot; style=&quot;width: 100.0%; height: 100.0%;&quot;&gt;NASA Johnson Space Center&lt;/div&gt;`)[0];\n                popup_c3ffc187149bf08ba9f9b828b0e6f6d9.setContent(html_0f0ca4233d8be2a004a86d91ee76e5f9);\n            \n        \n\n        circle_e78b237f4369cfe4eed244a6b793f66a.bindPopup(popup_c3ffc187149bf08ba9f9b828b0e6f6d9)\n        ;\n\n        \n    \n    \n            var marker_65a1315639d493357af8e74d34aa1cfe = L.marker(\n                [29.559684888503615, -95.0830971930759],\n                {\n}\n            ).addTo(marker_cluster_5919577a220f5e933cb87b32205ac004);\n        \n    \n            var div_icon_90fed4eaf440dce1e75130c67eaa31f5 = L.divIcon({\n  &quot;html&quot;: &quot;\\u003cdiv style=\\&quot;font-size: 12; color:#d35400;\\&quot;\\u003e\\u003cb\\u003eNASA JSC\\u003c/b\\u003e\\u003c/div\\u003e&quot;,\n  &quot;iconSize&quot;: [20, 20],\n  &quot;iconAnchor&quot;: [0, 0],\n  &quot;className&quot;: &quot;empty&quot;,\n});\n            marker_65a1315639d493357af8e74d34aa1cfe.setIcon(div_icon_90fed4eaf440dce1e75130c67eaa31f5);\n        \n    \n            tile_layer_ba9e8131c2473c5244366142d76f1a24.addTo(map_916e908a9db9cb973de13262ecf42897);\n        \n    \n            var marker_cluster_5919577a220f5e933cb87b32205ac004 = L.markerClusterGroup(\n                {\n}\n            );\n        \n    \n            marker_cluster_5919577a220f5e933cb87b32205ac004.addTo(map_916e908a9db9cb973de13262ecf42897);\n        \n    \n            tile_layer_ba9e8131c2473c5244366142d76f1a24.addTo(map_916e908a9db9cb973de13262ecf42897);\n        \n    \n            marker_cluster_5919577a220f5e933cb87b32205ac004.addTo(map_916e908a9db9cb973de13262ecf42897);\n        \n    \n            var mouse_position_f5d12144419b52c565247c117944e304 = new L.Control.MousePosition(\n                {\n  &quot;position&quot;: &quot;topright&quot;,\n  &quot;separator&quot;: &quot; Long: &quot;,\n  &quot;emptyString&quot;: &quot;NaN&quot;,\n  &quot;lngFirst&quot;: false,\n  &quot;numDigits&quot;: 20,\n  &quot;prefix&quot;: &quot;Lat:&quot;,\n}\n            );\n            mouse_position_f5d12144419b52c565247c117944e304.options[&quot;latFormatter&quot;] =\n                function(num) {return L.Util.formatNum(num, 5);};;\n            mouse_position_f5d12144419b52c565247c117944e304.options[&quot;lngFormatter&quot;] =\n                function(num) {return L.Util.formatNum(num, 5);};;\n            map_916e908a9db9cb973de13262ecf42897.addControl(mouse_position_f5d12144419b52c565247c117944e304);\n        \n&lt;/script&gt;\n&lt;/html&gt;\" style=\"position:absolute;width:100%;height:100%;left:0;top:0;border:none !important;\" allowfullscreen webkitallowfullscreen mozallowfullscreen></iframe></div></div>"
          },
          "metadata": {}
        }
      ],
      "execution_count": 15
    },
    {
      "cell_type": "markdown",
      "source": "Now zoom in to a launch site and explore its proximity to see if you can easily find any railway, highway, coastline, etc. Move your mouse to these points and mark down their coordinates (shown on the top-left) in order to the distance to the launch site.\n",
      "metadata": {}
    },
    {
      "cell_type": "markdown",
      "source": "Now zoom in to a launch site and explore its proximity to see if you can easily find any railway, highway, coastline, etc. Move your mouse to these points and mark down their coordinates (shown on the top-left) in order to the distance to the launch site.\n",
      "metadata": {}
    },
    {
      "cell_type": "code",
      "source": "from math import sin, cos, sqrt, atan2, radians\n\ndef calculate_distance(lat1, lon1, lat2, lon2):\n    # approximate radius of earth in km\n    R = 6373.0\n\n    lat1 = radians(lat1)\n    lon1 = radians(lon1)\n    lat2 = radians(lat2)\n    lon2 = radians(lon2)\n\n    dlon = lon2 - lon1\n    dlat = lat2 - lat1\n\n    a = sin(dlat / 2)**2 + cos(lat1) * cos(lat2) * sin(dlon / 2)**2\n    c = 2 * atan2(sqrt(a), sqrt(1 - a))\n\n    distance = R * c\n    return distance",
      "metadata": {
        "trusted": true
      },
      "outputs": [],
      "execution_count": 16
    },
    {
      "cell_type": "markdown",
      "source": "*TODO:* Mark down a point on the closest coastline using MousePosition and calculate the distance between the coastline point and the launch site.\n",
      "metadata": {}
    },
    {
      "cell_type": "code",
      "source": "import math\n\n# Coordenadas del sitio de lanzamiento\nlaunch_site_lat = 28.5623\nlaunch_site_lon = -80.5774\n\n# Coordenadas aproximadas de la costa más cercana\ncoastline_lat = 28.56367\ncoastline_lon = -80.57163\n\n# Función para calcular la distancia usando la fórmula Haversine\ndef calculate_distance(lat1, lon1, lat2, lon2):\n    R = 6371  # Radio de la Tierra en km\n    dlat = math.radians(lat2 - lat1)\n    dlon = math.radians(lon2 - lon1)\n    a = math.sin(dlat/2)**2 + math.cos(math.radians(lat1)) * math.cos(math.radians(lat2)) * math.sin(dlon/2)**2\n    c = 2 * math.atan2(math.sqrt(a), math.sqrt(1 - a))\n    return R * c\n\n# Calcular la distancia a la costa más cercana\ndistance_coastline = calculate_distance(launch_site_lat, launch_site_lon, coastline_lat, coastline_lon)\n\n# Mostrar el resultado\nprint(f\"Coordenadas de la costa más cercana: Lat: {coastline_lat}, Lon: {coastline_lon}\")\nprint(f\"Distancia a la costa más cercana: {distance_coastline:.2f} km\")\n",
      "metadata": {
        "trusted": true
      },
      "outputs": [
        {
          "name": "stdout",
          "text": "Coordenadas de la costa más cercana: Lat: 28.56367, Lon: -80.57163\nDistancia a la costa más cercana: 0.58 km\n",
          "output_type": "stream"
        }
      ],
      "execution_count": 17
    },
    {
      "cell_type": "code",
      "source": "import folium\n\n# Crear un mapa centrado en el sitio de lanzamiento\nmapa = folium.Map(location=[launch_site_lat, launch_site_lon], zoom_start=12)\n\n# Agregar marcador para el sitio de lanzamiento\nfolium.Marker(\n    [launch_site_lat, launch_site_lon],\n    popup=\"Launch Site\",\n    icon=folium.Icon(color=\"blue\", icon=\"rocket\")\n).add_to(mapa)\n\n# Agregar marcador para la costa más cercana\nfolium.Marker(\n    [coastline_lat, coastline_lon],\n    popup=\"Closest Coastline\",\n    icon=folium.Icon(color=\"green\", icon=\"flag\")\n).add_to(mapa)\n\n# Guardar el mapa\nmapa.save(\"launch_site_and_coastline.html\")\nmapa\n",
      "metadata": {
        "trusted": true
      },
      "outputs": [
        {
          "execution_count": 18,
          "output_type": "execute_result",
          "data": {
            "text/plain": "<folium.folium.Map at 0x5b42120>",
            "text/html": "<div style=\"width:100%;\"><div style=\"position:relative;width:100%;height:0;padding-bottom:60%;\"><span style=\"color:#565656\">Make this Notebook Trusted to load map: File -> Trust Notebook</span><iframe srcdoc=\"&lt;!DOCTYPE html&gt;\n&lt;html&gt;\n&lt;head&gt;\n    \n    &lt;meta http-equiv=&quot;content-type&quot; content=&quot;text/html; charset=UTF-8&quot; /&gt;\n    \n        &lt;script&gt;\n            L_NO_TOUCH = false;\n            L_DISABLE_3D = false;\n        &lt;/script&gt;\n    \n    &lt;style&gt;html, body {width: 100%;height: 100%;margin: 0;padding: 0;}&lt;/style&gt;\n    &lt;style&gt;#map {position:absolute;top:0;bottom:0;right:0;left:0;}&lt;/style&gt;\n    &lt;script src=&quot;https://cdn.jsdelivr.net/npm/leaflet@1.9.3/dist/leaflet.js&quot;&gt;&lt;/script&gt;\n    &lt;script src=&quot;https://code.jquery.com/jquery-3.7.1.min.js&quot;&gt;&lt;/script&gt;\n    &lt;script src=&quot;https://cdn.jsdelivr.net/npm/bootstrap@5.2.2/dist/js/bootstrap.bundle.min.js&quot;&gt;&lt;/script&gt;\n    &lt;script src=&quot;https://cdnjs.cloudflare.com/ajax/libs/Leaflet.awesome-markers/2.0.2/leaflet.awesome-markers.js&quot;&gt;&lt;/script&gt;\n    &lt;link rel=&quot;stylesheet&quot; href=&quot;https://cdn.jsdelivr.net/npm/leaflet@1.9.3/dist/leaflet.css&quot;/&gt;\n    &lt;link rel=&quot;stylesheet&quot; href=&quot;https://cdn.jsdelivr.net/npm/bootstrap@5.2.2/dist/css/bootstrap.min.css&quot;/&gt;\n    &lt;link rel=&quot;stylesheet&quot; href=&quot;https://netdna.bootstrapcdn.com/bootstrap/3.0.0/css/bootstrap-glyphicons.css&quot;/&gt;\n    &lt;link rel=&quot;stylesheet&quot; href=&quot;https://cdn.jsdelivr.net/npm/@fortawesome/fontawesome-free@6.2.0/css/all.min.css&quot;/&gt;\n    &lt;link rel=&quot;stylesheet&quot; href=&quot;https://cdnjs.cloudflare.com/ajax/libs/Leaflet.awesome-markers/2.0.2/leaflet.awesome-markers.css&quot;/&gt;\n    &lt;link rel=&quot;stylesheet&quot; href=&quot;https://cdn.jsdelivr.net/gh/python-visualization/folium/folium/templates/leaflet.awesome.rotate.min.css&quot;/&gt;\n    \n            &lt;meta name=&quot;viewport&quot; content=&quot;width=device-width,\n                initial-scale=1.0, maximum-scale=1.0, user-scalable=no&quot; /&gt;\n            &lt;style&gt;\n                #map_61144df268c535a1c934073e619f0539 {\n                    position: relative;\n                    width: 100.0%;\n                    height: 100.0%;\n                    left: 0.0%;\n                    top: 0.0%;\n                }\n                .leaflet-container { font-size: 1rem; }\n            &lt;/style&gt;\n        \n&lt;/head&gt;\n&lt;body&gt;\n    \n    \n            &lt;div class=&quot;folium-map&quot; id=&quot;map_61144df268c535a1c934073e619f0539&quot; &gt;&lt;/div&gt;\n        \n&lt;/body&gt;\n&lt;script&gt;\n    \n    \n            var map_61144df268c535a1c934073e619f0539 = L.map(\n                &quot;map_61144df268c535a1c934073e619f0539&quot;,\n                {\n                    center: [28.5623, -80.5774],\n                    crs: L.CRS.EPSG3857,\n                    ...{\n  &quot;zoom&quot;: 12,\n  &quot;zoomControl&quot;: true,\n  &quot;preferCanvas&quot;: false,\n}\n\n                }\n            );\n\n            \n\n        \n    \n            var tile_layer_68f1608e459fadeb9606cd5c1f3a10ca = L.tileLayer(\n                &quot;https://tile.openstreetmap.org/{z}/{x}/{y}.png&quot;,\n                {\n  &quot;minZoom&quot;: 0,\n  &quot;maxZoom&quot;: 19,\n  &quot;maxNativeZoom&quot;: 19,\n  &quot;noWrap&quot;: false,\n  &quot;attribution&quot;: &quot;\\u0026copy; \\u003ca href=\\&quot;https://www.openstreetmap.org/copyright\\&quot;\\u003eOpenStreetMap\\u003c/a\\u003e contributors&quot;,\n  &quot;subdomains&quot;: &quot;abc&quot;,\n  &quot;detectRetina&quot;: false,\n  &quot;tms&quot;: false,\n  &quot;opacity&quot;: 1,\n}\n\n            );\n        \n    \n            tile_layer_68f1608e459fadeb9606cd5c1f3a10ca.addTo(map_61144df268c535a1c934073e619f0539);\n        \n    \n            var marker_753895ad5eef4b23edd46a4811972b61 = L.marker(\n                [28.5623, -80.5774],\n                {\n}\n            ).addTo(map_61144df268c535a1c934073e619f0539);\n        \n    \n            var icon_34cc7270d5fc6944ff237bc9b48e4116 = L.AwesomeMarkers.icon(\n                {\n  &quot;markerColor&quot;: &quot;blue&quot;,\n  &quot;iconColor&quot;: &quot;white&quot;,\n  &quot;icon&quot;: &quot;rocket&quot;,\n  &quot;prefix&quot;: &quot;glyphicon&quot;,\n  &quot;extraClasses&quot;: &quot;fa-rotate-0&quot;,\n}\n            );\n            marker_753895ad5eef4b23edd46a4811972b61.setIcon(icon_34cc7270d5fc6944ff237bc9b48e4116);\n        \n    \n        var popup_68d370912d8b4968852f8af2de069716 = L.popup({\n  &quot;maxWidth&quot;: &quot;100%&quot;,\n});\n\n        \n            \n                var html_1fe780650d6bd306a0e2229ac7ed251e = $(`&lt;div id=&quot;html_1fe780650d6bd306a0e2229ac7ed251e&quot; style=&quot;width: 100.0%; height: 100.0%;&quot;&gt;Launch Site&lt;/div&gt;`)[0];\n                popup_68d370912d8b4968852f8af2de069716.setContent(html_1fe780650d6bd306a0e2229ac7ed251e);\n            \n        \n\n        marker_753895ad5eef4b23edd46a4811972b61.bindPopup(popup_68d370912d8b4968852f8af2de069716)\n        ;\n\n        \n    \n    \n            var marker_f169423f1f4cdde10bfcaf06be284ad7 = L.marker(\n                [28.56367, -80.57163],\n                {\n}\n            ).addTo(map_61144df268c535a1c934073e619f0539);\n        \n    \n            var icon_4d527f5146b03090291c296a05531b61 = L.AwesomeMarkers.icon(\n                {\n  &quot;markerColor&quot;: &quot;green&quot;,\n  &quot;iconColor&quot;: &quot;white&quot;,\n  &quot;icon&quot;: &quot;flag&quot;,\n  &quot;prefix&quot;: &quot;glyphicon&quot;,\n  &quot;extraClasses&quot;: &quot;fa-rotate-0&quot;,\n}\n            );\n            marker_f169423f1f4cdde10bfcaf06be284ad7.setIcon(icon_4d527f5146b03090291c296a05531b61);\n        \n    \n        var popup_e9e04084723f4580d5d5f9231e68fe97 = L.popup({\n  &quot;maxWidth&quot;: &quot;100%&quot;,\n});\n\n        \n            \n                var html_281d3c40ec889237d48c3d206754bd2d = $(`&lt;div id=&quot;html_281d3c40ec889237d48c3d206754bd2d&quot; style=&quot;width: 100.0%; height: 100.0%;&quot;&gt;Closest Coastline&lt;/div&gt;`)[0];\n                popup_e9e04084723f4580d5d5f9231e68fe97.setContent(html_281d3c40ec889237d48c3d206754bd2d);\n            \n        \n\n        marker_f169423f1f4cdde10bfcaf06be284ad7.bindPopup(popup_e9e04084723f4580d5d5f9231e68fe97)\n        ;\n\n        \n    \n    \n            tile_layer_68f1608e459fadeb9606cd5c1f3a10ca.addTo(map_61144df268c535a1c934073e619f0539);\n        \n&lt;/script&gt;\n&lt;/html&gt;\" style=\"position:absolute;width:100%;height:100%;left:0;top:0;border:none !important;\" allowfullscreen webkitallowfullscreen mozallowfullscreen></iframe></div></div>"
          },
          "metadata": {}
        }
      ],
      "execution_count": 18
    },
    {
      "cell_type": "markdown",
      "source": "*TODO:* Draw a `PolyLine` between a launch site to the selected coastline point\n",
      "metadata": {}
    },
    {
      "cell_type": "code",
      "source": "import folium\n\n# Coordenadas del sitio de lanzamiento\nlaunch_site_lat = 28.5623\nlaunch_site_lon = -80.5774\n\n# Coordenadas aproximadas de la costa más cercana\ncoastline_lat = 28.56367\ncoastline_lon = -80.57163\n\n# Crear un mapa centrado en el sitio de lanzamiento\nsite_map = folium.Map(location=[launch_site_lat, launch_site_lon], zoom_start=14)\n\n# Añadir un marcador para el sitio de lanzamiento\nfolium.Marker(\n    location=[launch_site_lat, launch_site_lon],\n    popup=\"Launch Site\",\n    icon=folium.Icon(color=\"blue\", icon=\"rocket\")\n).add_to(site_map)\n\n# Añadir un marcador para la costa más cercana\nfolium.Marker(\n    location=[coastline_lat, coastline_lon],\n    popup=\"Closest Coastline\",\n    icon=folium.Icon(color=\"green\", icon=\"flag\")\n).add_to(site_map)\n\n# Crear una línea entre el sitio de lanzamiento y la costa más cercana\ncoordinates = [\n    [launch_site_lat, launch_site_lon],\n    [coastline_lat, coastline_lon]\n]\nlines = folium.PolyLine(locations=coordinates, weight=2, color='red', dash_array='5,5')\nsite_map.add_child(lines)\n\n# Guardar el mapa en un archivo HTML (opcional)\nsite_map.save(\"launch_site_to_coastline.html\")\n\n# Mostrar el mapa (si estás en un entorno interactivo como Jupyter Notebook)\nsite_map\n",
      "metadata": {
        "trusted": true
      },
      "outputs": [
        {
          "execution_count": 19,
          "output_type": "execute_result",
          "data": {
            "text/plain": "<folium.folium.Map at 0x5cbf2f0>",
            "text/html": "<div style=\"width:100%;\"><div style=\"position:relative;width:100%;height:0;padding-bottom:60%;\"><span style=\"color:#565656\">Make this Notebook Trusted to load map: File -> Trust Notebook</span><iframe srcdoc=\"&lt;!DOCTYPE html&gt;\n&lt;html&gt;\n&lt;head&gt;\n    \n    &lt;meta http-equiv=&quot;content-type&quot; content=&quot;text/html; charset=UTF-8&quot; /&gt;\n    \n        &lt;script&gt;\n            L_NO_TOUCH = false;\n            L_DISABLE_3D = false;\n        &lt;/script&gt;\n    \n    &lt;style&gt;html, body {width: 100%;height: 100%;margin: 0;padding: 0;}&lt;/style&gt;\n    &lt;style&gt;#map {position:absolute;top:0;bottom:0;right:0;left:0;}&lt;/style&gt;\n    &lt;script src=&quot;https://cdn.jsdelivr.net/npm/leaflet@1.9.3/dist/leaflet.js&quot;&gt;&lt;/script&gt;\n    &lt;script src=&quot;https://code.jquery.com/jquery-3.7.1.min.js&quot;&gt;&lt;/script&gt;\n    &lt;script src=&quot;https://cdn.jsdelivr.net/npm/bootstrap@5.2.2/dist/js/bootstrap.bundle.min.js&quot;&gt;&lt;/script&gt;\n    &lt;script src=&quot;https://cdnjs.cloudflare.com/ajax/libs/Leaflet.awesome-markers/2.0.2/leaflet.awesome-markers.js&quot;&gt;&lt;/script&gt;\n    &lt;link rel=&quot;stylesheet&quot; href=&quot;https://cdn.jsdelivr.net/npm/leaflet@1.9.3/dist/leaflet.css&quot;/&gt;\n    &lt;link rel=&quot;stylesheet&quot; href=&quot;https://cdn.jsdelivr.net/npm/bootstrap@5.2.2/dist/css/bootstrap.min.css&quot;/&gt;\n    &lt;link rel=&quot;stylesheet&quot; href=&quot;https://netdna.bootstrapcdn.com/bootstrap/3.0.0/css/bootstrap-glyphicons.css&quot;/&gt;\n    &lt;link rel=&quot;stylesheet&quot; href=&quot;https://cdn.jsdelivr.net/npm/@fortawesome/fontawesome-free@6.2.0/css/all.min.css&quot;/&gt;\n    &lt;link rel=&quot;stylesheet&quot; href=&quot;https://cdnjs.cloudflare.com/ajax/libs/Leaflet.awesome-markers/2.0.2/leaflet.awesome-markers.css&quot;/&gt;\n    &lt;link rel=&quot;stylesheet&quot; href=&quot;https://cdn.jsdelivr.net/gh/python-visualization/folium/folium/templates/leaflet.awesome.rotate.min.css&quot;/&gt;\n    \n            &lt;meta name=&quot;viewport&quot; content=&quot;width=device-width,\n                initial-scale=1.0, maximum-scale=1.0, user-scalable=no&quot; /&gt;\n            &lt;style&gt;\n                #map_6151bb82948dbbbdd48b57e3e4f51234 {\n                    position: relative;\n                    width: 100.0%;\n                    height: 100.0%;\n                    left: 0.0%;\n                    top: 0.0%;\n                }\n                .leaflet-container { font-size: 1rem; }\n            &lt;/style&gt;\n        \n&lt;/head&gt;\n&lt;body&gt;\n    \n    \n            &lt;div class=&quot;folium-map&quot; id=&quot;map_6151bb82948dbbbdd48b57e3e4f51234&quot; &gt;&lt;/div&gt;\n        \n&lt;/body&gt;\n&lt;script&gt;\n    \n    \n            var map_6151bb82948dbbbdd48b57e3e4f51234 = L.map(\n                &quot;map_6151bb82948dbbbdd48b57e3e4f51234&quot;,\n                {\n                    center: [28.5623, -80.5774],\n                    crs: L.CRS.EPSG3857,\n                    ...{\n  &quot;zoom&quot;: 14,\n  &quot;zoomControl&quot;: true,\n  &quot;preferCanvas&quot;: false,\n}\n\n                }\n            );\n\n            \n\n        \n    \n            var tile_layer_0ae3bdd17819f904402d791f0dc45b1a = L.tileLayer(\n                &quot;https://tile.openstreetmap.org/{z}/{x}/{y}.png&quot;,\n                {\n  &quot;minZoom&quot;: 0,\n  &quot;maxZoom&quot;: 19,\n  &quot;maxNativeZoom&quot;: 19,\n  &quot;noWrap&quot;: false,\n  &quot;attribution&quot;: &quot;\\u0026copy; \\u003ca href=\\&quot;https://www.openstreetmap.org/copyright\\&quot;\\u003eOpenStreetMap\\u003c/a\\u003e contributors&quot;,\n  &quot;subdomains&quot;: &quot;abc&quot;,\n  &quot;detectRetina&quot;: false,\n  &quot;tms&quot;: false,\n  &quot;opacity&quot;: 1,\n}\n\n            );\n        \n    \n            tile_layer_0ae3bdd17819f904402d791f0dc45b1a.addTo(map_6151bb82948dbbbdd48b57e3e4f51234);\n        \n    \n            var marker_97a52f2580c5a9cddd35edfdc06ca132 = L.marker(\n                [28.5623, -80.5774],\n                {\n}\n            ).addTo(map_6151bb82948dbbbdd48b57e3e4f51234);\n        \n    \n            var icon_a88251412e9cf7012d106a53a52f6d6f = L.AwesomeMarkers.icon(\n                {\n  &quot;markerColor&quot;: &quot;blue&quot;,\n  &quot;iconColor&quot;: &quot;white&quot;,\n  &quot;icon&quot;: &quot;rocket&quot;,\n  &quot;prefix&quot;: &quot;glyphicon&quot;,\n  &quot;extraClasses&quot;: &quot;fa-rotate-0&quot;,\n}\n            );\n            marker_97a52f2580c5a9cddd35edfdc06ca132.setIcon(icon_a88251412e9cf7012d106a53a52f6d6f);\n        \n    \n        var popup_432a31db51ba41d5efbdb23a5a143cc5 = L.popup({\n  &quot;maxWidth&quot;: &quot;100%&quot;,\n});\n\n        \n            \n                var html_0d6ef9dbea267e84bff816b62458b5cd = $(`&lt;div id=&quot;html_0d6ef9dbea267e84bff816b62458b5cd&quot; style=&quot;width: 100.0%; height: 100.0%;&quot;&gt;Launch Site&lt;/div&gt;`)[0];\n                popup_432a31db51ba41d5efbdb23a5a143cc5.setContent(html_0d6ef9dbea267e84bff816b62458b5cd);\n            \n        \n\n        marker_97a52f2580c5a9cddd35edfdc06ca132.bindPopup(popup_432a31db51ba41d5efbdb23a5a143cc5)\n        ;\n\n        \n    \n    \n            var marker_d86c5862b6c8e6b3c21ff5e04def4aa4 = L.marker(\n                [28.56367, -80.57163],\n                {\n}\n            ).addTo(map_6151bb82948dbbbdd48b57e3e4f51234);\n        \n    \n            var icon_1eac30a21803a00475f68004193f1195 = L.AwesomeMarkers.icon(\n                {\n  &quot;markerColor&quot;: &quot;green&quot;,\n  &quot;iconColor&quot;: &quot;white&quot;,\n  &quot;icon&quot;: &quot;flag&quot;,\n  &quot;prefix&quot;: &quot;glyphicon&quot;,\n  &quot;extraClasses&quot;: &quot;fa-rotate-0&quot;,\n}\n            );\n            marker_d86c5862b6c8e6b3c21ff5e04def4aa4.setIcon(icon_1eac30a21803a00475f68004193f1195);\n        \n    \n        var popup_5eb04e6207eb2a7d3cc113db156bb37c = L.popup({\n  &quot;maxWidth&quot;: &quot;100%&quot;,\n});\n\n        \n            \n                var html_3bb714011a3d292e353b6dc712294407 = $(`&lt;div id=&quot;html_3bb714011a3d292e353b6dc712294407&quot; style=&quot;width: 100.0%; height: 100.0%;&quot;&gt;Closest Coastline&lt;/div&gt;`)[0];\n                popup_5eb04e6207eb2a7d3cc113db156bb37c.setContent(html_3bb714011a3d292e353b6dc712294407);\n            \n        \n\n        marker_d86c5862b6c8e6b3c21ff5e04def4aa4.bindPopup(popup_5eb04e6207eb2a7d3cc113db156bb37c)\n        ;\n\n        \n    \n    \n            var poly_line_968179b7d3c613b378de9f3645edc919 = L.polyline(\n                [[28.5623, -80.5774], [28.56367, -80.57163]],\n                {&quot;bubblingMouseEvents&quot;: true, &quot;color&quot;: &quot;red&quot;, &quot;dashArray&quot;: &quot;5,5&quot;, &quot;dashOffset&quot;: null, &quot;fill&quot;: false, &quot;fillColor&quot;: &quot;red&quot;, &quot;fillOpacity&quot;: 0.2, &quot;fillRule&quot;: &quot;evenodd&quot;, &quot;lineCap&quot;: &quot;round&quot;, &quot;lineJoin&quot;: &quot;round&quot;, &quot;noClip&quot;: false, &quot;opacity&quot;: 1.0, &quot;smoothFactor&quot;: 1.0, &quot;stroke&quot;: true, &quot;weight&quot;: 2}\n            ).addTo(map_6151bb82948dbbbdd48b57e3e4f51234);\n        \n    \n            tile_layer_0ae3bdd17819f904402d791f0dc45b1a.addTo(map_6151bb82948dbbbdd48b57e3e4f51234);\n        \n&lt;/script&gt;\n&lt;/html&gt;\" style=\"position:absolute;width:100%;height:100%;left:0;top:0;border:none !important;\" allowfullscreen webkitallowfullscreen mozallowfullscreen></iframe></div></div>"
          },
          "metadata": {}
        }
      ],
      "execution_count": 19
    },
    {
      "cell_type": "markdown",
      "source": "Your updated map with distance line should look like the following screenshot:\n",
      "metadata": {}
    },
    {
      "cell_type": "markdown",
      "source": "<center>\n    <img src=\"https://cf-courses-data.s3.us.cloud-object-storage.appdomain.cloud/IBM-DS0321EN-SkillsNetwork/labs/module_3/images/launch_site_marker_distance.png\">\n</center>\n",
      "metadata": {}
    },
    {
      "cell_type": "markdown",
      "source": "*TODO:* Similarly, you can draw a line betwee a launch site to its closest city, railway, highway, etc. You need to use `MousePosition` to find the their coordinates on the map first\n",
      "metadata": {}
    },
    {
      "cell_type": "markdown",
      "source": "A railway map symbol may look like this:\n",
      "metadata": {}
    },
    {
      "cell_type": "markdown",
      "source": "<center>\n    <img src=\"https://cf-courses-data.s3.us.cloud-object-storage.appdomain.cloud/IBM-DS0321EN-SkillsNetwork/labs/module_3/images/railway.png\">\n</center>\n",
      "metadata": {}
    },
    {
      "cell_type": "markdown",
      "source": "A highway map symbol may look like this:\n",
      "metadata": {}
    },
    {
      "cell_type": "markdown",
      "source": "<center>\n    <img src=\"https://cf-courses-data.s3.us.cloud-object-storage.appdomain.cloud/IBM-DS0321EN-SkillsNetwork/labs/module_3/images/highway.png\">\n</center>\n",
      "metadata": {}
    },
    {
      "cell_type": "markdown",
      "source": "A city map symbol may look like this:\n",
      "metadata": {}
    },
    {
      "cell_type": "markdown",
      "source": "<center>\n    <img src=\"https://cf-courses-data.s3.us.cloud-object-storage.appdomain.cloud/IBM-DS0321EN-SkillsNetwork/labs/module_3/images/city.png\">\n</center>\n",
      "metadata": {}
    },
    {
      "cell_type": "code",
      "source": "import folium\nfrom folium.plugins import MousePosition\nfrom math import radians, sin, cos, sqrt, atan2\n\n# Coordenadas del sitio de lanzamiento\nlaunch_site_lat = 28.5623\nlaunch_site_lon = -80.5774\n\n# Datos de los puntos cercanos\nnearby_points = [\n    {\"name\": \"Closest City\", \"lat\": 28.6123, \"lon\": -80.8074},\n    {\"name\": \"Closest Railway\", \"lat\": 28.5720, \"lon\": -80.6200},\n    {\"name\": \"Closest Highway\", \"lat\": 28.5654, \"lon\": -80.5708},\n    {\"name\": \"Closest Coastline\", \"lat\": 28.56367, \"lon\": -80.57163}\n]\n\n# Función para calcular la distancia usando Haversine\ndef calculate_distance(lat1, lon1, lat2, lon2):\n    R = 6371  # Radio de la Tierra en km\n    dlat = radians(lat2 - lat1)\n    dlon = radians(lon2 - lon1)\n    a = sin(dlat / 2)**2 + cos(radians(lat1)) * cos(radians(lat2)) * sin(dlon / 2)**2\n    c = 2 * atan2(sqrt(a), sqrt(1 - a))\n    return R * c\n\n# Crear un mapa centrado en el sitio de lanzamiento\nsite_map = folium.Map(location=[launch_site_lat, launch_site_lon], zoom_start=12)\n\n# Agregar marcador para el sitio de lanzamiento\nfolium.Marker(\n    location=[launch_site_lat, launch_site_lon],\n    popup=\"Launch Site\",\n    icon=folium.Icon(color=\"blue\", icon=\"rocket\", prefix=\"fa\")\n).add_to(site_map)\n\n# Iterar sobre los puntos cercanos para crear marcadores y líneas\nfor point in nearby_points:\n    # Calcular la distancia\n    distance = calculate_distance(launch_site_lat, launch_site_lon, point[\"lat\"], point[\"lon\"])\n\n    # Crear un marcador para el punto cercano\n    folium.Marker(\n        location=[point[\"lat\"], point[\"lon\"]],\n        popup=f\"{point['name']}<br>Distance: {distance:.2f} km\",\n        icon=folium.Icon(color=\"green\", icon=\"info-sign\")\n    ).add_to(site_map)\n\n    # Dibujar una línea entre el sitio de lanzamiento y el punto cercano\n    coordinates = [[launch_site_lat, launch_site_lon], [point[\"lat\"], point[\"lon\"]]]\n    folium.PolyLine(\n        locations=coordinates,\n        weight=2,\n        color=\"red\",\n        popup=f\"Distance: {distance:.2f} km\"\n    ).add_to(site_map)\n\n# Agregar MousePosition para mostrar coordenadas en tiempo real\nMousePosition(\n    position=\"topright\",\n    separator=\" | \",\n    prefix=\"Lat/Lon:\",\n    num_digits=5,\n    empty_string=\"No position\"\n).add_to(site_map)\n\n# Guardar el mapa en un archivo HTML\nsite_map.save(\"launch_site_with_nearby_points.html\")\n\n# Mostrar el mapa interactivo (Jupyter Notebook o entorno interactivo)\nsite_map\n",
      "metadata": {
        "trusted": true
      },
      "outputs": [
        {
          "execution_count": 20,
          "output_type": "execute_result",
          "data": {
            "text/plain": "<folium.folium.Map at 0x5cd7a70>",
            "text/html": "<div style=\"width:100%;\"><div style=\"position:relative;width:100%;height:0;padding-bottom:60%;\"><span style=\"color:#565656\">Make this Notebook Trusted to load map: File -> Trust Notebook</span><iframe srcdoc=\"&lt;!DOCTYPE html&gt;\n&lt;html&gt;\n&lt;head&gt;\n    \n    &lt;meta http-equiv=&quot;content-type&quot; content=&quot;text/html; charset=UTF-8&quot; /&gt;\n    \n        &lt;script&gt;\n            L_NO_TOUCH = false;\n            L_DISABLE_3D = false;\n        &lt;/script&gt;\n    \n    &lt;style&gt;html, body {width: 100%;height: 100%;margin: 0;padding: 0;}&lt;/style&gt;\n    &lt;style&gt;#map {position:absolute;top:0;bottom:0;right:0;left:0;}&lt;/style&gt;\n    &lt;script src=&quot;https://cdn.jsdelivr.net/npm/leaflet@1.9.3/dist/leaflet.js&quot;&gt;&lt;/script&gt;\n    &lt;script src=&quot;https://code.jquery.com/jquery-3.7.1.min.js&quot;&gt;&lt;/script&gt;\n    &lt;script src=&quot;https://cdn.jsdelivr.net/npm/bootstrap@5.2.2/dist/js/bootstrap.bundle.min.js&quot;&gt;&lt;/script&gt;\n    &lt;script src=&quot;https://cdnjs.cloudflare.com/ajax/libs/Leaflet.awesome-markers/2.0.2/leaflet.awesome-markers.js&quot;&gt;&lt;/script&gt;\n    &lt;link rel=&quot;stylesheet&quot; href=&quot;https://cdn.jsdelivr.net/npm/leaflet@1.9.3/dist/leaflet.css&quot;/&gt;\n    &lt;link rel=&quot;stylesheet&quot; href=&quot;https://cdn.jsdelivr.net/npm/bootstrap@5.2.2/dist/css/bootstrap.min.css&quot;/&gt;\n    &lt;link rel=&quot;stylesheet&quot; href=&quot;https://netdna.bootstrapcdn.com/bootstrap/3.0.0/css/bootstrap-glyphicons.css&quot;/&gt;\n    &lt;link rel=&quot;stylesheet&quot; href=&quot;https://cdn.jsdelivr.net/npm/@fortawesome/fontawesome-free@6.2.0/css/all.min.css&quot;/&gt;\n    &lt;link rel=&quot;stylesheet&quot; href=&quot;https://cdnjs.cloudflare.com/ajax/libs/Leaflet.awesome-markers/2.0.2/leaflet.awesome-markers.css&quot;/&gt;\n    &lt;link rel=&quot;stylesheet&quot; href=&quot;https://cdn.jsdelivr.net/gh/python-visualization/folium/folium/templates/leaflet.awesome.rotate.min.css&quot;/&gt;\n    \n            &lt;meta name=&quot;viewport&quot; content=&quot;width=device-width,\n                initial-scale=1.0, maximum-scale=1.0, user-scalable=no&quot; /&gt;\n            &lt;style&gt;\n                #map_803321e37f82f0513246f584cce64167 {\n                    position: relative;\n                    width: 100.0%;\n                    height: 100.0%;\n                    left: 0.0%;\n                    top: 0.0%;\n                }\n                .leaflet-container { font-size: 1rem; }\n            &lt;/style&gt;\n        \n    &lt;script src=&quot;https://cdn.jsdelivr.net/gh/ardhi/Leaflet.MousePosition/src/L.Control.MousePosition.min.js&quot;&gt;&lt;/script&gt;\n    &lt;link rel=&quot;stylesheet&quot; href=&quot;https://cdn.jsdelivr.net/gh/ardhi/Leaflet.MousePosition/src/L.Control.MousePosition.min.css&quot;/&gt;\n&lt;/head&gt;\n&lt;body&gt;\n    \n    \n            &lt;div class=&quot;folium-map&quot; id=&quot;map_803321e37f82f0513246f584cce64167&quot; &gt;&lt;/div&gt;\n        \n&lt;/body&gt;\n&lt;script&gt;\n    \n    \n            var map_803321e37f82f0513246f584cce64167 = L.map(\n                &quot;map_803321e37f82f0513246f584cce64167&quot;,\n                {\n                    center: [28.5623, -80.5774],\n                    crs: L.CRS.EPSG3857,\n                    ...{\n  &quot;zoom&quot;: 12,\n  &quot;zoomControl&quot;: true,\n  &quot;preferCanvas&quot;: false,\n}\n\n                }\n            );\n\n            \n\n        \n    \n            var tile_layer_a69ed4b1f4e11f421fc5990337b3ba8a = L.tileLayer(\n                &quot;https://tile.openstreetmap.org/{z}/{x}/{y}.png&quot;,\n                {\n  &quot;minZoom&quot;: 0,\n  &quot;maxZoom&quot;: 19,\n  &quot;maxNativeZoom&quot;: 19,\n  &quot;noWrap&quot;: false,\n  &quot;attribution&quot;: &quot;\\u0026copy; \\u003ca href=\\&quot;https://www.openstreetmap.org/copyright\\&quot;\\u003eOpenStreetMap\\u003c/a\\u003e contributors&quot;,\n  &quot;subdomains&quot;: &quot;abc&quot;,\n  &quot;detectRetina&quot;: false,\n  &quot;tms&quot;: false,\n  &quot;opacity&quot;: 1,\n}\n\n            );\n        \n    \n            tile_layer_a69ed4b1f4e11f421fc5990337b3ba8a.addTo(map_803321e37f82f0513246f584cce64167);\n        \n    \n            var marker_a05812a6471945c80b289ab29f9fbbc7 = L.marker(\n                [28.5623, -80.5774],\n                {\n}\n            ).addTo(map_803321e37f82f0513246f584cce64167);\n        \n    \n            var icon_13ba2e123d079905157af82fc585be30 = L.AwesomeMarkers.icon(\n                {\n  &quot;markerColor&quot;: &quot;blue&quot;,\n  &quot;iconColor&quot;: &quot;white&quot;,\n  &quot;icon&quot;: &quot;rocket&quot;,\n  &quot;prefix&quot;: &quot;fa&quot;,\n  &quot;extraClasses&quot;: &quot;fa-rotate-0&quot;,\n}\n            );\n            marker_a05812a6471945c80b289ab29f9fbbc7.setIcon(icon_13ba2e123d079905157af82fc585be30);\n        \n    \n        var popup_193be24255d355d19402db7b06c632c6 = L.popup({\n  &quot;maxWidth&quot;: &quot;100%&quot;,\n});\n\n        \n            \n                var html_f02cf10548549a8064ee053a4d11d10b = $(`&lt;div id=&quot;html_f02cf10548549a8064ee053a4d11d10b&quot; style=&quot;width: 100.0%; height: 100.0%;&quot;&gt;Launch Site&lt;/div&gt;`)[0];\n                popup_193be24255d355d19402db7b06c632c6.setContent(html_f02cf10548549a8064ee053a4d11d10b);\n            \n        \n\n        marker_a05812a6471945c80b289ab29f9fbbc7.bindPopup(popup_193be24255d355d19402db7b06c632c6)\n        ;\n\n        \n    \n    \n            var marker_dafdb81b129583ef045ee5cd998f4983 = L.marker(\n                [28.6123, -80.8074],\n                {\n}\n            ).addTo(map_803321e37f82f0513246f584cce64167);\n        \n    \n            var icon_7d2d7115d85e6306d56ec7bdfd55d81a = L.AwesomeMarkers.icon(\n                {\n  &quot;markerColor&quot;: &quot;green&quot;,\n  &quot;iconColor&quot;: &quot;white&quot;,\n  &quot;icon&quot;: &quot;info-sign&quot;,\n  &quot;prefix&quot;: &quot;glyphicon&quot;,\n  &quot;extraClasses&quot;: &quot;fa-rotate-0&quot;,\n}\n            );\n            marker_dafdb81b129583ef045ee5cd998f4983.setIcon(icon_7d2d7115d85e6306d56ec7bdfd55d81a);\n        \n    \n        var popup_0d6a2d988e2cf29897750bcdf3323ff3 = L.popup({\n  &quot;maxWidth&quot;: &quot;100%&quot;,\n});\n\n        \n            \n                var html_3bf2e089dff76acd2cda381af9183f50 = $(`&lt;div id=&quot;html_3bf2e089dff76acd2cda381af9183f50&quot; style=&quot;width: 100.0%; height: 100.0%;&quot;&gt;Closest City&lt;br&gt;Distance: 23.13 km&lt;/div&gt;`)[0];\n                popup_0d6a2d988e2cf29897750bcdf3323ff3.setContent(html_3bf2e089dff76acd2cda381af9183f50);\n            \n        \n\n        marker_dafdb81b129583ef045ee5cd998f4983.bindPopup(popup_0d6a2d988e2cf29897750bcdf3323ff3)\n        ;\n\n        \n    \n    \n            var poly_line_9f19078b30c5b2ee41cdb08636593f63 = L.polyline(\n                [[28.5623, -80.5774], [28.6123, -80.8074]],\n                {&quot;bubblingMouseEvents&quot;: true, &quot;color&quot;: &quot;red&quot;, &quot;dashArray&quot;: null, &quot;dashOffset&quot;: null, &quot;fill&quot;: false, &quot;fillColor&quot;: &quot;red&quot;, &quot;fillOpacity&quot;: 0.2, &quot;fillRule&quot;: &quot;evenodd&quot;, &quot;lineCap&quot;: &quot;round&quot;, &quot;lineJoin&quot;: &quot;round&quot;, &quot;noClip&quot;: false, &quot;opacity&quot;: 1.0, &quot;smoothFactor&quot;: 1.0, &quot;stroke&quot;: true, &quot;weight&quot;: 2}\n            ).addTo(map_803321e37f82f0513246f584cce64167);\n        \n    \n        var popup_07beaad6afbe8be3db8c9c86c059d379 = L.popup({\n  &quot;maxWidth&quot;: &quot;100%&quot;,\n});\n\n        \n            \n                var html_e68961cd7f9cab07d406288877d13f28 = $(`&lt;div id=&quot;html_e68961cd7f9cab07d406288877d13f28&quot; style=&quot;width: 100.0%; height: 100.0%;&quot;&gt;Distance: 23.13 km&lt;/div&gt;`)[0];\n                popup_07beaad6afbe8be3db8c9c86c059d379.setContent(html_e68961cd7f9cab07d406288877d13f28);\n            \n        \n\n        poly_line_9f19078b30c5b2ee41cdb08636593f63.bindPopup(popup_07beaad6afbe8be3db8c9c86c059d379)\n        ;\n\n        \n    \n    \n            var marker_2620401071cfaa1337a859e281d2bc4d = L.marker(\n                [28.572, -80.62],\n                {\n}\n            ).addTo(map_803321e37f82f0513246f584cce64167);\n        \n    \n            var icon_d158013f7f7fdb7a7b69df053428bdec = L.AwesomeMarkers.icon(\n                {\n  &quot;markerColor&quot;: &quot;green&quot;,\n  &quot;iconColor&quot;: &quot;white&quot;,\n  &quot;icon&quot;: &quot;info-sign&quot;,\n  &quot;prefix&quot;: &quot;glyphicon&quot;,\n  &quot;extraClasses&quot;: &quot;fa-rotate-0&quot;,\n}\n            );\n            marker_2620401071cfaa1337a859e281d2bc4d.setIcon(icon_d158013f7f7fdb7a7b69df053428bdec);\n        \n    \n        var popup_53948abb07f7b2cee3b1803672144b9d = L.popup({\n  &quot;maxWidth&quot;: &quot;100%&quot;,\n});\n\n        \n            \n                var html_34ecceb40501573aaeb1511cafa34b23 = $(`&lt;div id=&quot;html_34ecceb40501573aaeb1511cafa34b23&quot; style=&quot;width: 100.0%; height: 100.0%;&quot;&gt;Closest Railway&lt;br&gt;Distance: 4.30 km&lt;/div&gt;`)[0];\n                popup_53948abb07f7b2cee3b1803672144b9d.setContent(html_34ecceb40501573aaeb1511cafa34b23);\n            \n        \n\n        marker_2620401071cfaa1337a859e281d2bc4d.bindPopup(popup_53948abb07f7b2cee3b1803672144b9d)\n        ;\n\n        \n    \n    \n            var poly_line_bc2280a8b1f364ac0510514e921954d6 = L.polyline(\n                [[28.5623, -80.5774], [28.572, -80.62]],\n                {&quot;bubblingMouseEvents&quot;: true, &quot;color&quot;: &quot;red&quot;, &quot;dashArray&quot;: null, &quot;dashOffset&quot;: null, &quot;fill&quot;: false, &quot;fillColor&quot;: &quot;red&quot;, &quot;fillOpacity&quot;: 0.2, &quot;fillRule&quot;: &quot;evenodd&quot;, &quot;lineCap&quot;: &quot;round&quot;, &quot;lineJoin&quot;: &quot;round&quot;, &quot;noClip&quot;: false, &quot;opacity&quot;: 1.0, &quot;smoothFactor&quot;: 1.0, &quot;stroke&quot;: true, &quot;weight&quot;: 2}\n            ).addTo(map_803321e37f82f0513246f584cce64167);\n        \n    \n        var popup_445b0d04e071e190dcefa775a8de8511 = L.popup({\n  &quot;maxWidth&quot;: &quot;100%&quot;,\n});\n\n        \n            \n                var html_c3aa58f7812342d535ec022723d5f231 = $(`&lt;div id=&quot;html_c3aa58f7812342d535ec022723d5f231&quot; style=&quot;width: 100.0%; height: 100.0%;&quot;&gt;Distance: 4.30 km&lt;/div&gt;`)[0];\n                popup_445b0d04e071e190dcefa775a8de8511.setContent(html_c3aa58f7812342d535ec022723d5f231);\n            \n        \n\n        poly_line_bc2280a8b1f364ac0510514e921954d6.bindPopup(popup_445b0d04e071e190dcefa775a8de8511)\n        ;\n\n        \n    \n    \n            var marker_993f675c01ca964bba60ade3dfdaaa75 = L.marker(\n                [28.5654, -80.5708],\n                {\n}\n            ).addTo(map_803321e37f82f0513246f584cce64167);\n        \n    \n            var icon_bbd0a8ddd38beb367485eae6d608ef80 = L.AwesomeMarkers.icon(\n                {\n  &quot;markerColor&quot;: &quot;green&quot;,\n  &quot;iconColor&quot;: &quot;white&quot;,\n  &quot;icon&quot;: &quot;info-sign&quot;,\n  &quot;prefix&quot;: &quot;glyphicon&quot;,\n  &quot;extraClasses&quot;: &quot;fa-rotate-0&quot;,\n}\n            );\n            marker_993f675c01ca964bba60ade3dfdaaa75.setIcon(icon_bbd0a8ddd38beb367485eae6d608ef80);\n        \n    \n        var popup_9c859185ef078e8a772397d3ad026eb3 = L.popup({\n  &quot;maxWidth&quot;: &quot;100%&quot;,\n});\n\n        \n            \n                var html_ad09db23ef71ab25379005f3a9e9b43e = $(`&lt;div id=&quot;html_ad09db23ef71ab25379005f3a9e9b43e&quot; style=&quot;width: 100.0%; height: 100.0%;&quot;&gt;Closest Highway&lt;br&gt;Distance: 0.73 km&lt;/div&gt;`)[0];\n                popup_9c859185ef078e8a772397d3ad026eb3.setContent(html_ad09db23ef71ab25379005f3a9e9b43e);\n            \n        \n\n        marker_993f675c01ca964bba60ade3dfdaaa75.bindPopup(popup_9c859185ef078e8a772397d3ad026eb3)\n        ;\n\n        \n    \n    \n            var poly_line_45762b6118a683c21d42f84c605d7364 = L.polyline(\n                [[28.5623, -80.5774], [28.5654, -80.5708]],\n                {&quot;bubblingMouseEvents&quot;: true, &quot;color&quot;: &quot;red&quot;, &quot;dashArray&quot;: null, &quot;dashOffset&quot;: null, &quot;fill&quot;: false, &quot;fillColor&quot;: &quot;red&quot;, &quot;fillOpacity&quot;: 0.2, &quot;fillRule&quot;: &quot;evenodd&quot;, &quot;lineCap&quot;: &quot;round&quot;, &quot;lineJoin&quot;: &quot;round&quot;, &quot;noClip&quot;: false, &quot;opacity&quot;: 1.0, &quot;smoothFactor&quot;: 1.0, &quot;stroke&quot;: true, &quot;weight&quot;: 2}\n            ).addTo(map_803321e37f82f0513246f584cce64167);\n        \n    \n        var popup_6c14d3b1b253eb063a644013a5c5ee51 = L.popup({\n  &quot;maxWidth&quot;: &quot;100%&quot;,\n});\n\n        \n            \n                var html_42174aff9beda88212863d51f2f494e4 = $(`&lt;div id=&quot;html_42174aff9beda88212863d51f2f494e4&quot; style=&quot;width: 100.0%; height: 100.0%;&quot;&gt;Distance: 0.73 km&lt;/div&gt;`)[0];\n                popup_6c14d3b1b253eb063a644013a5c5ee51.setContent(html_42174aff9beda88212863d51f2f494e4);\n            \n        \n\n        poly_line_45762b6118a683c21d42f84c605d7364.bindPopup(popup_6c14d3b1b253eb063a644013a5c5ee51)\n        ;\n\n        \n    \n    \n            var marker_5b8f779a7291e029b3bc94e6bd9ecb3d = L.marker(\n                [28.56367, -80.57163],\n                {\n}\n            ).addTo(map_803321e37f82f0513246f584cce64167);\n        \n    \n            var icon_bbc0866602343bb4a1da0aebbc6131ac = L.AwesomeMarkers.icon(\n                {\n  &quot;markerColor&quot;: &quot;green&quot;,\n  &quot;iconColor&quot;: &quot;white&quot;,\n  &quot;icon&quot;: &quot;info-sign&quot;,\n  &quot;prefix&quot;: &quot;glyphicon&quot;,\n  &quot;extraClasses&quot;: &quot;fa-rotate-0&quot;,\n}\n            );\n            marker_5b8f779a7291e029b3bc94e6bd9ecb3d.setIcon(icon_bbc0866602343bb4a1da0aebbc6131ac);\n        \n    \n        var popup_c95124906dc1789600fe85a81987661e = L.popup({\n  &quot;maxWidth&quot;: &quot;100%&quot;,\n});\n\n        \n            \n                var html_486313af717be65fc3b8d6592ca5bf27 = $(`&lt;div id=&quot;html_486313af717be65fc3b8d6592ca5bf27&quot; style=&quot;width: 100.0%; height: 100.0%;&quot;&gt;Closest Coastline&lt;br&gt;Distance: 0.58 km&lt;/div&gt;`)[0];\n                popup_c95124906dc1789600fe85a81987661e.setContent(html_486313af717be65fc3b8d6592ca5bf27);\n            \n        \n\n        marker_5b8f779a7291e029b3bc94e6bd9ecb3d.bindPopup(popup_c95124906dc1789600fe85a81987661e)\n        ;\n\n        \n    \n    \n            var poly_line_76e869705b0ee99bc4198b10fa8835ca = L.polyline(\n                [[28.5623, -80.5774], [28.56367, -80.57163]],\n                {&quot;bubblingMouseEvents&quot;: true, &quot;color&quot;: &quot;red&quot;, &quot;dashArray&quot;: null, &quot;dashOffset&quot;: null, &quot;fill&quot;: false, &quot;fillColor&quot;: &quot;red&quot;, &quot;fillOpacity&quot;: 0.2, &quot;fillRule&quot;: &quot;evenodd&quot;, &quot;lineCap&quot;: &quot;round&quot;, &quot;lineJoin&quot;: &quot;round&quot;, &quot;noClip&quot;: false, &quot;opacity&quot;: 1.0, &quot;smoothFactor&quot;: 1.0, &quot;stroke&quot;: true, &quot;weight&quot;: 2}\n            ).addTo(map_803321e37f82f0513246f584cce64167);\n        \n    \n        var popup_83d9003eaee024bfc1a50c52d07815e0 = L.popup({\n  &quot;maxWidth&quot;: &quot;100%&quot;,\n});\n\n        \n            \n                var html_2a45f22b230f7abd017e7ec6c6b603a3 = $(`&lt;div id=&quot;html_2a45f22b230f7abd017e7ec6c6b603a3&quot; style=&quot;width: 100.0%; height: 100.0%;&quot;&gt;Distance: 0.58 km&lt;/div&gt;`)[0];\n                popup_83d9003eaee024bfc1a50c52d07815e0.setContent(html_2a45f22b230f7abd017e7ec6c6b603a3);\n            \n        \n\n        poly_line_76e869705b0ee99bc4198b10fa8835ca.bindPopup(popup_83d9003eaee024bfc1a50c52d07815e0)\n        ;\n\n        \n    \n    \n            var mouse_position_f35411c6da2ca196806875fde2cdb8f3 = new L.Control.MousePosition(\n                {\n  &quot;position&quot;: &quot;topright&quot;,\n  &quot;separator&quot;: &quot; | &quot;,\n  &quot;emptyString&quot;: &quot;No position&quot;,\n  &quot;lngFirst&quot;: false,\n  &quot;numDigits&quot;: 5,\n  &quot;prefix&quot;: &quot;Lat/Lon:&quot;,\n}\n            );\n            mouse_position_f35411c6da2ca196806875fde2cdb8f3.options[&quot;latFormatter&quot;] =\n                undefined;\n            mouse_position_f35411c6da2ca196806875fde2cdb8f3.options[&quot;lngFormatter&quot;] =\n                undefined;\n            map_803321e37f82f0513246f584cce64167.addControl(mouse_position_f35411c6da2ca196806875fde2cdb8f3);\n        \n    \n            tile_layer_a69ed4b1f4e11f421fc5990337b3ba8a.addTo(map_803321e37f82f0513246f584cce64167);\n        \n&lt;/script&gt;\n&lt;/html&gt;\" style=\"position:absolute;width:100%;height:100%;left:0;top:0;border:none !important;\" allowfullscreen webkitallowfullscreen mozallowfullscreen></iframe></div></div>"
          },
          "metadata": {}
        }
      ],
      "execution_count": 20
    },
    {
      "cell_type": "code",
      "source": "",
      "metadata": {},
      "outputs": [],
      "execution_count": null
    },
    {
      "cell_type": "code",
      "source": "",
      "metadata": {},
      "outputs": [],
      "execution_count": null
    },
    {
      "cell_type": "markdown",
      "source": "After you plot distance lines to the proximities, you can answer the following questions easily:\n\n*   Are launch sites in close proximity to railways?\n*   Are launch sites in close proximity to highways?\n*   Are launch sites in close proximity to coastline?\n*   Do launch sites keep certain distance away from cities?\n\nAlso please try to explain your findings.\n",
      "metadata": {}
    },
    {
      "cell_type": "markdown",
      "source": "# Next Steps:\n\nNow you have discovered many interesting insights related to the launch sites' location using folium, in a very interactive way. Next, you will need to build a dashboard using Ploty Dash on detailed launch records.\n",
      "metadata": {}
    },
    {
      "cell_type": "markdown",
      "source": "## Authors\n",
      "metadata": {}
    },
    {
      "cell_type": "markdown",
      "source": "[Pratiksha Verma](https://www.linkedin.com/in/pratiksha-verma-6487561b1/)\n",
      "metadata": {}
    },
    {
      "cell_type": "markdown",
      "source": "<!--## Change Log--!>\n",
      "metadata": {}
    },
    {
      "cell_type": "markdown",
      "source": "<!--| Date (YYYY-MM-DD) | Version | Changed By      | Change Description      |\n| ----------------- | ------- | -------------   | ----------------------- |\n| 2022-11-09        | 1.0     | Pratiksha Verma | Converted initial version to Jupyterlite|--!>\n",
      "metadata": {}
    },
    {
      "cell_type": "markdown",
      "source": "### <h3 align=\"center\"> IBM Corporation 2022. All rights reserved. <h3/>\n",
      "metadata": {}
    }
  ]
}